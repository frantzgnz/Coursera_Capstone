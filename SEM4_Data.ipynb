{
 "cells": [
  {
   "cell_type": "markdown",
   "metadata": {},
   "source": [
    "# Proyeto Capstone - Analizando barrios de Nueva York para abrir un restaurante de comida peruana"
   ]
  },
  {
   "cell_type": "markdown",
   "metadata": {},
   "source": [
    "## Data: "
   ]
  },
  {
   "cell_type": "markdown",
   "metadata": {},
   "source": [
    "Para este proyecto utilizaremos lo siguiente:"
   ]
  },
  {
   "cell_type": "markdown",
   "metadata": {},
   "source": [
    "- La data de Nueva York que contiene los barrios y vecindarios con sus coordenada (longitud y latitud).\n",
    "    - Fuente: https://cocl.us/new_york_dataset\n",
    "    - Descripción: Esta data contiene la información requerida y la usaremos para explorar varios vecindarios de Nueva York."
   ]
  },
  {
   "cell_type": "markdown",
   "metadata": {},
   "source": [
    "- Restaurantes Peruanos de cada vecindarios de Nueva York.\n",
    "    - Fuente: API FourSquare.\n",
    "    - Descripción: Usando el API lograremos conseguir todos los sitios de cada vecindario. Podemos filtrar estos sitios por solo los restaurantes peruanos (Peruvian Restaurants)"
   ]
  },
  {
   "cell_type": "markdown",
   "metadata": {},
   "source": [
    "- Coordenadas geográficas:\n",
    "    - Con ayuda de la librería geocoder podremos obtener las latitudes y longitudes de los vecindarios de Nueva York, y así poder graficarlos en un mapa con ayuda de la librería folium."
   ]
  }
 ],
 "metadata": {
  "kernelspec": {
   "display_name": "Python 3",
   "language": "python",
   "name": "python3"
  },
  "language_info": {
   "codemirror_mode": {
    "name": "ipython",
    "version": 3
   },
   "file_extension": ".py",
   "mimetype": "text/x-python",
   "name": "python",
   "nbconvert_exporter": "python",
   "pygments_lexer": "ipython3",
   "version": "3.8.5"
  }
 },
 "nbformat": 4,
 "nbformat_minor": 4
}
