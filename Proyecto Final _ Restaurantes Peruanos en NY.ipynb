{
 "cells": [
  {
   "cell_type": "markdown",
   "metadata": {},
   "source": [
    "# Proyeto Capstone - Analizando barrios de Nueva York para abrir un restaurante de comida peruana"
   ]
  },
  {
   "cell_type": "markdown",
   "metadata": {},
   "source": [
    "## Introducción: Problema de Negocio"
   ]
  },
  {
   "cell_type": "markdown",
   "metadata": {},
   "source": [
    "Nueva York, 'la ciudad que nunca duerme', es la ciudad mas grande de Estados unidos a lo largo de la historia, donde puedes encontrar personas con diversas culturas, por ser una de las principales ciudades con inmigrantes legales que viven aquí.\n",
    "\n",
    "Debido a esta naturaleza multicultural en la ciudad de Nueva York, trajo consigo una diversa variedad de gastronomía; entre ellas, la gastronomía peruana. Perú siempre ha sido elogiado por su gastronomía en distintas partes del mundo. La mayoría de las personas una vez que prueban los platos típicos peruanos, no pueden esconder el gusto por ellos.\n",
    "\n",
    "El objetivo de este proyecto es estudiar los barrios de Nueva York para determinar los mejores posibles lugares para abrir un restaurante de comida peruana. Este proyecto puede ser útil para dueños de negocios o emprendedores que estén planeando invertir en abrir un restaurante peruano en Nueva York. El principal objetivo de este proyecto es analizar de manera profunda la data apropiada con el fin de encontrar recomendaciones para los interesados."
   ]
  },
  {
   "cell_type": "markdown",
   "metadata": {},
   "source": [
    "#### Problema"
   ]
  },
  {
   "cell_type": "markdown",
   "metadata": {},
   "source": [
    "Responderemos a las siguientes problemas:"
   ]
  },
  {
   "cell_type": "markdown",
   "metadata": {},
   "source": [
    "1. ¿Cuales son los mejores lugares en Nueva York para la cocina Peruana?\n",
    "\n",
    "2. ¿Qué áreas tienen el potencial del mercado de restaurantes peruanos?\n",
    "\n",
    "3. ¿Cuál es el mejor lugar para invertir en aperturar un restaurante de comida Peruana?"
   ]
  },
  {
   "cell_type": "markdown",
   "metadata": {},
   "source": [
    "## Data"
   ]
  },
  {
   "cell_type": "markdown",
   "metadata": {},
   "source": [
    "Para este proyecto utilizaremos lo siguiente:"
   ]
  },
  {
   "cell_type": "markdown",
   "metadata": {},
   "source": [
    "- La data de Nueva York que contiene los barrios y vecindarios con sus coordenada (longitud y latitud).\n",
    "    - Fuente: https://cocl.us/new_york_dataset\n",
    "    - Descripción: Esta data contiene la información requerida y la usaremos para explorar varios vecindarios de Nueva York."
   ]
  },
  {
   "cell_type": "markdown",
   "metadata": {},
   "source": [
    "- Restaurantes Peruanos de cada vecindarios de Nueva York.\n",
    "    - Fuente: API FourSquare.\n",
    "    - Descripción: Usando el API lograremos conseguir todos los sitios de cada vecindario. Podemos filtrar estos sitios por solo los restaurantes peruanos (Peruvian Restaurants)"
   ]
  },
  {
   "cell_type": "markdown",
   "metadata": {},
   "source": [
    "- Coordenadas geográficas:\n",
    "    - Con ayuda de la librería geocoder podremos obtener las latitudes y longitudes de los vecindarios de Nueva York, y así poder graficarlos en un mapa con ayuda de la librería folium."
   ]
  },
  {
   "cell_type": "markdown",
   "metadata": {},
   "source": [
    "-----"
   ]
  },
  {
   "cell_type": "markdown",
   "metadata": {},
   "source": [
    "Importamos las librerías necesarias para nuestro proyecto"
   ]
  },
  {
   "cell_type": "code",
   "execution_count": 4,
   "metadata": {},
   "outputs": [
    {
     "name": "stdout",
     "output_type": "stream",
     "text": [
      "Collecting geopy\n",
      "  Downloading geopy-2.1.0-py3-none-any.whl (112 kB)\n",
      "Collecting geographiclib<2,>=1.49\n",
      "  Downloading geographiclib-1.50-py3-none-any.whl (38 kB)\n",
      "Installing collected packages: geographiclib, geopy\n",
      "Successfully installed geographiclib-1.50 geopy-2.1.0\n",
      "Libraries imported.\n"
     ]
    }
   ],
   "source": [
    "import pandas as pd\n",
    "import numpy as np\n",
    "pd.set_option('display.max_columns', None)\n",
    "pd.set_option('display.max_rows', None)\n",
    "import requests\n",
    "from bs4 import BeautifulSoup\n",
    "#!pip install geocoder\n",
    "!pip install geopy\n",
    "import geocoder\n",
    "import os\n",
    "#!pip install folium\n",
    "import folium # map rendering library\n",
    "from geopy.geocoders import Nominatim \n",
    "# Matplotlib and associated plotting modules\n",
    "import matplotlib.pyplot as plt\n",
    "import matplotlib.cm as cm\n",
    "import matplotlib.colors as colors\n",
    "%matplotlib inline\n",
    "\n",
    "\n",
    "print('Libraries imported.')"
   ]
  },
  {
   "cell_type": "markdown",
   "metadata": {},
   "source": [
    "Ahora definimos una función para obtener las coordenadas geográficas (latitud y longitud) usando geopy:"
   ]
  },
  {
   "cell_type": "code",
   "execution_count": 5,
   "metadata": {},
   "outputs": [],
   "source": [
    "def geo_location(address):\n",
    "    \n",
    "    geolocator = Nominatim(user_agent=\"ny_explorer\")\n",
    "    location = geolocator.geocode(address)\n",
    "    latitude = location.latitude\n",
    "    longitude = location.longitude\n",
    "    return latitude,longitude"
   ]
  },
  {
   "cell_type": "markdown",
   "metadata": {},
   "source": [
    "Definimos nuestras variables de CLIENT_ID, CLIENT_SECRET y VERSION para usarlas en el API de Foursquare"
   ]
  },
  {
   "cell_type": "code",
   "execution_count": 6,
   "metadata": {},
   "outputs": [],
   "source": [
    "CLIENT_ID = 'UUH31W3ZKZ5WXA2K2DNQTUJV5NZVXDRX4UHKIJHEOYEZBTVQ' # your Foursquare ID\n",
    "CLIENT_SECRET = 'HWTZUEAOMOEENE2J51OUFWTCWLTUQJFQ4WFGGC5D4UBJOCKA' # your Foursquare Secret\n",
    "VERSION = '20210101' # Foursquare API version"
   ]
  },
  {
   "cell_type": "markdown",
   "metadata": {},
   "source": [
    "Definimos una función para interactuar con el API de Foursquare y obetener los 100 mejores lugares en un radio de 1000 metros con respecto a una latitud y longitud. Esta función nos retornará el id del lugar (venue id), el nombre y la categoría."
   ]
  },
  {
   "cell_type": "code",
   "execution_count": 7,
   "metadata": {},
   "outputs": [],
   "source": [
    "def get_venues(lat,lng):\n",
    "    \n",
    "    #variables radius y limit\n",
    "    radius=1000\n",
    "    LIMIT=100\n",
    "\n",
    "    #url to fetch data from foursquare api\n",
    "    url = 'https://api.foursquare.com/v2/venues/explore?&client_id={}&client_secret={}&v={}&ll={},{}&radius={}&limit={}'.format(\n",
    "            CLIENT_ID, \n",
    "            CLIENT_SECRET, \n",
    "            VERSION, \n",
    "            lat, \n",
    "            lng, \n",
    "            radius, \n",
    "            LIMIT)\n",
    "    \n",
    "    # get all the data\n",
    "    results = requests.get(url).json()\n",
    "    venue_data=results[\"response\"]['groups'][0]['items']\n",
    "    venue_details=[]\n",
    "    for row in venue_data:\n",
    "        try:\n",
    "            venue_id=row['venue']['id']\n",
    "            venue_name=row['venue']['name']\n",
    "            venue_category=row['venue']['categories'][0]['name']\n",
    "            venue_details.append([venue_id,venue_name,venue_category])\n",
    "        except KeyError:\n",
    "            pass\n",
    "        \n",
    "    column_names=['ID','Name','Category']\n",
    "    df = pd.DataFrame(venue_details,columns=column_names)\n",
    "    return df"
   ]
  },
  {
   "cell_type": "markdown",
   "metadata": {},
   "source": [
    "Definimos la función 'get_venue_details' para obtener otros datos como el número de likes, el rating y el número de tips por cada lugar. Esto se usará al momento de realizar el ranking."
   ]
  },
  {
   "cell_type": "code",
   "execution_count": 8,
   "metadata": {},
   "outputs": [],
   "source": [
    "def get_venue_details(venue_id):\n",
    "    \n",
    "    #url to fetch data from foursquare api\n",
    "    url = 'https://api.foursquare.com/v2/venues/{}?&client_id={}&client_secret={}&v={}'.format(\n",
    "            venue_id,\n",
    "            CLIENT_ID, \n",
    "            CLIENT_SECRET, \n",
    "            VERSION)\n",
    "    \n",
    "    # get all the data\n",
    "    results = requests.get(url).json()\n",
    "    venue_data=results['response']['venue']\n",
    "    venue_details=[]\n",
    "    try:\n",
    "        venue_id=venue_data['id']\n",
    "        venue_name=venue_data['name']\n",
    "        venue_likes=venue_data['likes']['count']\n",
    "        venue_rating=venue_data['rating']\n",
    "        venue_tips=venue_data['tips']['count']\n",
    "        venue_details.append([venue_id,venue_name,venue_likes,venue_rating,venue_tips])\n",
    "    except KeyError:\n",
    "        pass\n",
    "        \n",
    "    column_names=['ID','Name','Likes','Rating','Tips']\n",
    "    df = pd.DataFrame(venue_details,columns=column_names)\n",
    "    return df"
   ]
  },
  {
   "cell_type": "markdown",
   "metadata": {},
   "source": [
    "Definimos la funcion 'get_ny_data' para obtener la data como los barrios y vecindarios con su longitud y latitud."
   ]
  },
  {
   "cell_type": "code",
   "execution_count": 9,
   "metadata": {},
   "outputs": [],
   "source": [
    "def get_ny_data():\n",
    "    url='https://cocl.us/new_york_dataset'\n",
    "    resp=requests.get(url).json()\n",
    "    # all data is present in features label\n",
    "    features=resp['features']\n",
    "    \n",
    "    # definir el nombre de las columnas del df\n",
    "    column_names = ['Borough', 'Neighborhood', 'Latitude', 'Longitude'] \n",
    "    # iniciar dataframe\n",
    "    new_york_data = pd.DataFrame(columns=column_names)\n",
    "    \n",
    "    for data in features:\n",
    "        borough = data['properties']['borough'] \n",
    "        neighborhood_name = data['properties']['name']\n",
    "        \n",
    "        neighborhood_latlon = data['geometry']['coordinates']\n",
    "        neighborhood_lat = neighborhood_latlon[1]\n",
    "        neighborhood_lon = neighborhood_latlon[0]\n",
    "    \n",
    "        new_york_data = new_york_data.append({'Borough': borough,\n",
    "                                          'Neighborhood': neighborhood_name,\n",
    "                                          'Latitude': neighborhood_lat,\n",
    "                                          'Longitude': neighborhood_lon}, ignore_index=True)\n",
    "    \n",
    "    return new_york_data"
   ]
  },
  {
   "cell_type": "markdown",
   "metadata": {},
   "source": [
    "Usamos la funcion 'get_ny_data' para obtener la data necesaria y la guardamos en el dataframe 'df'. Vemos la data y su tamaño"
   ]
  },
  {
   "cell_type": "code",
   "execution_count": 10,
   "metadata": {},
   "outputs": [],
   "source": [
    "df = get_ny_data()"
   ]
  },
  {
   "cell_type": "code",
   "execution_count": 11,
   "metadata": {},
   "outputs": [
    {
     "data": {
      "text/html": [
       "<div>\n",
       "<style scoped>\n",
       "    .dataframe tbody tr th:only-of-type {\n",
       "        vertical-align: middle;\n",
       "    }\n",
       "\n",
       "    .dataframe tbody tr th {\n",
       "        vertical-align: top;\n",
       "    }\n",
       "\n",
       "    .dataframe thead th {\n",
       "        text-align: right;\n",
       "    }\n",
       "</style>\n",
       "<table border=\"1\" class=\"dataframe\">\n",
       "  <thead>\n",
       "    <tr style=\"text-align: right;\">\n",
       "      <th></th>\n",
       "      <th>Borough</th>\n",
       "      <th>Neighborhood</th>\n",
       "      <th>Latitude</th>\n",
       "      <th>Longitude</th>\n",
       "    </tr>\n",
       "  </thead>\n",
       "  <tbody>\n",
       "    <tr>\n",
       "      <th>0</th>\n",
       "      <td>Bronx</td>\n",
       "      <td>Wakefield</td>\n",
       "      <td>40.894705</td>\n",
       "      <td>-73.847201</td>\n",
       "    </tr>\n",
       "    <tr>\n",
       "      <th>1</th>\n",
       "      <td>Bronx</td>\n",
       "      <td>Co-op City</td>\n",
       "      <td>40.874294</td>\n",
       "      <td>-73.829939</td>\n",
       "    </tr>\n",
       "    <tr>\n",
       "      <th>2</th>\n",
       "      <td>Bronx</td>\n",
       "      <td>Eastchester</td>\n",
       "      <td>40.887556</td>\n",
       "      <td>-73.827806</td>\n",
       "    </tr>\n",
       "    <tr>\n",
       "      <th>3</th>\n",
       "      <td>Bronx</td>\n",
       "      <td>Fieldston</td>\n",
       "      <td>40.895437</td>\n",
       "      <td>-73.905643</td>\n",
       "    </tr>\n",
       "    <tr>\n",
       "      <th>4</th>\n",
       "      <td>Bronx</td>\n",
       "      <td>Riverdale</td>\n",
       "      <td>40.890834</td>\n",
       "      <td>-73.912585</td>\n",
       "    </tr>\n",
       "  </tbody>\n",
       "</table>\n",
       "</div>"
      ],
      "text/plain": [
       "  Borough Neighborhood   Latitude  Longitude\n",
       "0   Bronx    Wakefield  40.894705 -73.847201\n",
       "1   Bronx   Co-op City  40.874294 -73.829939\n",
       "2   Bronx  Eastchester  40.887556 -73.827806\n",
       "3   Bronx    Fieldston  40.895437 -73.905643\n",
       "4   Bronx    Riverdale  40.890834 -73.912585"
      ]
     },
     "execution_count": 11,
     "metadata": {},
     "output_type": "execute_result"
    }
   ],
   "source": [
    "df.head()"
   ]
  },
  {
   "cell_type": "code",
   "execution_count": 12,
   "metadata": {},
   "outputs": [
    {
     "data": {
      "text/plain": [
       "(306, 4)"
      ]
     },
     "execution_count": 12,
     "metadata": {},
     "output_type": "execute_result"
    }
   ],
   "source": [
    "df.shape"
   ]
  },
  {
   "cell_type": "markdown",
   "metadata": {},
   "source": [
    "##### Vemos que existen 306 vecindarios distintos en la ciudad de Nueva York."
   ]
  },
  {
   "cell_type": "markdown",
   "metadata": {},
   "source": [
    "Para visualizarlo mejor, crearemos un gráfico de barras con los distintos vecindarios"
   ]
  },
  {
   "cell_type": "code",
   "execution_count": 13,
   "metadata": {
    "scrolled": true
   },
   "outputs": [
    {
     "data": {
      "image/png": "[encoded data removed]",
      "text/plain": [
       "<Figure size 900x500 with 1 Axes>"
      ]
     },
     "metadata": {
      "needs_background": "light"
     },
     "output_type": "display_data"
    }
   ],
   "source": [
    "plt.figure(figsize=(9,5), dpi = 100)\n",
    "# title\n",
    "plt.title('Numero de vecindarios para cada barrio de la ciudad de Nueva York')\n",
    "#On x-axis\n",
    "plt.xlabel('Barrio', fontsize = 15)\n",
    "#On y-axis\n",
    "plt.ylabel('# de vecindarios', fontsize=15)\n",
    "#giving a bar plot\n",
    "df.groupby('Borough')['Neighborhood'].count().plot(kind='bar')\n",
    "#legend\n",
    "plt.legend()\n",
    "#displays the plot\n",
    "plt.show()"
   ]
  },
  {
   "cell_type": "markdown",
   "metadata": {},
   "source": [
    "Del gráfico anterior, podemos identificar que <b> Queens </b> tiene el mayor número de vecindarios"
   ]
  },
  {
   "cell_type": "markdown",
   "metadata": {},
   "source": [
    "Ahora identificaremos los restaurantes peruanos por cada vecindario"
   ]
  },
  {
   "cell_type": "code",
   "execution_count": 16,
   "metadata": {},
   "outputs": [
    {
     "name": "stdout",
     "output_type": "stream",
     "text": [
      "( 1 / 306 ) Peruvian Resturants in Wakefield, Bronx:0\n",
      "( 2 / 306 ) Peruvian Resturants in Co-op City, Bronx:0\n",
      "( 3 / 306 ) Peruvian Resturants in Eastchester, Bronx:0\n",
      "( 4 / 306 ) Peruvian Resturants in Fieldston, Bronx:0\n",
      "( 5 / 306 ) Peruvian Resturants in Riverdale, Bronx:0\n",
      "( 6 / 306 ) Peruvian Resturants in Kingsbridge, Bronx:0\n",
      "( 7 / 306 ) Peruvian Resturants in Marble Hill, Manhattan:0\n",
      "( 8 / 306 ) Peruvian Resturants in Woodlawn, Bronx:0\n",
      "( 9 / 306 ) Peruvian Resturants in Norwood, Bronx:0\n",
      "( 10 / 306 ) Peruvian Resturants in Williamsbridge, Bronx:0\n",
      "( 11 / 306 ) Peruvian Resturants in Baychester, Bronx:0\n",
      "( 12 / 306 ) Peruvian Resturants in Pelham Parkway, Bronx:0\n",
      "( 13 / 306 ) Peruvian Resturants in City Island, Bronx:0\n",
      "( 14 / 306 ) Peruvian Resturants in Bedford Park, Bronx:0\n",
      "( 15 / 306 ) Peruvian Resturants in University Heights, Bronx:0\n",
      "( 16 / 306 ) Peruvian Resturants in Morris Heights, Bronx:0\n",
      "( 17 / 306 ) Peruvian Resturants in Fordham, Bronx:0\n",
      "( 18 / 306 ) Peruvian Resturants in East Tremont, Bronx:0\n",
      "( 19 / 306 ) Peruvian Resturants in West Farms, Bronx:0\n",
      "( 20 / 306 ) Peruvian Resturants in High  Bridge, Bronx:0\n",
      "( 21 / 306 ) Peruvian Resturants in Melrose, Bronx:1\n",
      "( 22 / 306 ) Peruvian Resturants in Mott Haven, Bronx:2\n",
      "( 23 / 306 ) Peruvian Resturants in Port Morris, Bronx:1\n",
      "( 24 / 306 ) Peruvian Resturants in Longwood, Bronx:0\n",
      "( 25 / 306 ) Peruvian Resturants in Hunts Point, Bronx:0\n",
      "( 26 / 306 ) Peruvian Resturants in Morrisania, Bronx:0\n",
      "( 27 / 306 ) Peruvian Resturants in Soundview, Bronx:0\n",
      "( 28 / 306 ) Peruvian Resturants in Clason Point, Bronx:0\n",
      "( 29 / 306 ) Peruvian Resturants in Throgs Neck, Bronx:0\n",
      "( 30 / 306 ) Peruvian Resturants in Country Club, Bronx:0\n",
      "( 31 / 306 ) Peruvian Resturants in Parkchester, Bronx:0\n",
      "( 32 / 306 ) Peruvian Resturants in Westchester Square, Bronx:0\n",
      "( 33 / 306 ) Peruvian Resturants in Van Nest, Bronx:0\n",
      "( 34 / 306 ) Peruvian Resturants in Morris Park, Bronx:0\n",
      "( 35 / 306 ) Peruvian Resturants in Belmont, Bronx:0\n",
      "( 36 / 306 ) Peruvian Resturants in Spuyten Duyvil, Bronx:0\n",
      "( 37 / 306 ) Peruvian Resturants in North Riverdale, Bronx:0\n",
      "( 38 / 306 ) Peruvian Resturants in Pelham Bay, Bronx:0\n",
      "( 39 / 306 ) Peruvian Resturants in Schuylerville, Bronx:0\n",
      "( 40 / 306 ) Peruvian Resturants in Edgewater Park, Bronx:0\n",
      "( 41 / 306 ) Peruvian Resturants in Castle Hill, Bronx:0\n",
      "( 42 / 306 ) Peruvian Resturants in Olinville, Bronx:0\n",
      "( 43 / 306 ) Peruvian Resturants in Pelham Gardens, Bronx:0\n",
      "( 44 / 306 ) Peruvian Resturants in Concourse, Bronx:0\n",
      "( 45 / 306 ) Peruvian Resturants in Unionport, Bronx:0\n",
      "( 46 / 306 ) Peruvian Resturants in Edenwald, Bronx:0\n",
      "( 47 / 306 ) Peruvian Resturants in Bay Ridge, Brooklyn:0\n",
      "( 48 / 306 ) Peruvian Resturants in Bensonhurst, Brooklyn:0\n",
      "( 49 / 306 ) Peruvian Resturants in Sunset Park, Brooklyn:0\n",
      "( 50 / 306 ) Peruvian Resturants in Greenpoint, Brooklyn:0\n",
      "( 51 / 306 ) Peruvian Resturants in Gravesend, Brooklyn:0\n",
      "( 52 / 306 ) Peruvian Resturants in Brighton Beach, Brooklyn:0\n",
      "( 53 / 306 ) Peruvian Resturants in Sheepshead Bay, Brooklyn:0\n",
      "( 54 / 306 ) Peruvian Resturants in Manhattan Terrace, Brooklyn:0\n",
      "( 55 / 306 ) Peruvian Resturants in Flatbush, Brooklyn:0\n",
      "( 56 / 306 ) Peruvian Resturants in Crown Heights, Brooklyn:0\n",
      "( 57 / 306 ) Peruvian Resturants in East Flatbush, Brooklyn:0\n",
      "( 58 / 306 ) Peruvian Resturants in Kensington, Brooklyn:0\n",
      "( 59 / 306 ) Peruvian Resturants in Windsor Terrace, Brooklyn:0\n",
      "( 60 / 306 ) Peruvian Resturants in Prospect Heights, Brooklyn:0\n",
      "( 61 / 306 ) Peruvian Resturants in Brownsville, Brooklyn:0\n",
      "( 62 / 306 ) Peruvian Resturants in Williamsburg, Brooklyn:0\n",
      "( 63 / 306 ) Peruvian Resturants in Bushwick, Brooklyn:0\n",
      "( 64 / 306 ) Peruvian Resturants in Bedford Stuyvesant, Brooklyn:0\n",
      "( 65 / 306 ) Peruvian Resturants in Brooklyn Heights, Brooklyn:0\n",
      "( 66 / 306 ) Peruvian Resturants in Cobble Hill, Brooklyn:0\n",
      "( 67 / 306 ) Peruvian Resturants in Carroll Gardens, Brooklyn:0\n",
      "( 68 / 306 ) Peruvian Resturants in Red Hook, Brooklyn:0\n",
      "( 69 / 306 ) Peruvian Resturants in Gowanus, Brooklyn:0\n",
      "( 70 / 306 ) Peruvian Resturants in Fort Greene, Brooklyn:0\n",
      "( 71 / 306 ) Peruvian Resturants in Park Slope, Brooklyn:0\n",
      "( 72 / 306 ) Peruvian Resturants in Cypress Hills, Brooklyn:0\n",
      "( 73 / 306 ) Peruvian Resturants in East New York, Brooklyn:0\n",
      "( 74 / 306 ) Peruvian Resturants in Starrett City, Brooklyn:0\n",
      "( 75 / 306 ) Peruvian Resturants in Canarsie, Brooklyn:0\n",
      "( 76 / 306 ) Peruvian Resturants in Flatlands, Brooklyn:0\n",
      "( 77 / 306 ) Peruvian Resturants in Mill Island, Brooklyn:0\n",
      "( 78 / 306 ) Peruvian Resturants in Manhattan Beach, Brooklyn:0\n",
      "( 79 / 306 ) Peruvian Resturants in Coney Island, Brooklyn:0\n",
      "( 80 / 306 ) Peruvian Resturants in Bath Beach, Brooklyn:1\n",
      "( 81 / 306 ) Peruvian Resturants in Borough Park, Brooklyn:0\n",
      "( 82 / 306 ) Peruvian Resturants in Dyker Heights, Brooklyn:0\n",
      "( 83 / 306 ) Peruvian Resturants in Gerritsen Beach, Brooklyn:0\n",
      "( 84 / 306 ) Peruvian Resturants in Marine Park, Brooklyn:0\n",
      "( 85 / 306 ) Peruvian Resturants in Clinton Hill, Brooklyn:0\n",
      "( 86 / 306 ) Peruvian Resturants in Sea Gate, Brooklyn:0\n",
      "( 87 / 306 ) Peruvian Resturants in Downtown, Brooklyn:1\n",
      "( 88 / 306 ) Peruvian Resturants in Boerum Hill, Brooklyn:0\n",
      "( 89 / 306 ) Peruvian Resturants in Prospect Lefferts Gardens, Brooklyn:0\n",
      "( 90 / 306 ) Peruvian Resturants in Ocean Hill, Brooklyn:0\n",
      "( 91 / 306 ) Peruvian Resturants in City Line, Brooklyn:0\n",
      "( 92 / 306 ) Peruvian Resturants in Bergen Beach, Brooklyn:1\n",
      "( 93 / 306 ) Peruvian Resturants in Midwood, Brooklyn:0\n",
      "( 94 / 306 ) Peruvian Resturants in Prospect Park South, Brooklyn:0\n",
      "( 95 / 306 ) Peruvian Resturants in Georgetown, Brooklyn:1\n",
      "( 96 / 306 ) Peruvian Resturants in East Williamsburg, Brooklyn:0\n",
      "( 97 / 306 ) Peruvian Resturants in North Side, Brooklyn:0\n",
      "( 98 / 306 ) Peruvian Resturants in South Side, Brooklyn:0\n",
      "( 99 / 306 ) Peruvian Resturants in Ocean Parkway, Brooklyn:0\n",
      "( 100 / 306 ) Peruvian Resturants in Fort Hamilton, Brooklyn:0\n",
      "( 101 / 306 ) Peruvian Resturants in Chinatown, Manhattan:0\n",
      "( 102 / 306 ) Peruvian Resturants in Washington Heights, Manhattan:0\n",
      "( 103 / 306 ) Peruvian Resturants in Inwood, Manhattan:0\n",
      "( 104 / 306 ) Peruvian Resturants in Hamilton Heights, Manhattan:0\n",
      "( 105 / 306 ) Peruvian Resturants in Manhattanville, Manhattan:0\n",
      "( 106 / 306 ) Peruvian Resturants in Central Harlem, Manhattan:0\n",
      "( 107 / 306 ) Peruvian Resturants in East Harlem, Manhattan:0\n",
      "( 108 / 306 ) Peruvian Resturants in Upper East Side, Manhattan:0\n",
      "( 109 / 306 ) Peruvian Resturants in Yorkville, Manhattan:1\n",
      "( 110 / 306 ) Peruvian Resturants in Lenox Hill, Manhattan:0\n",
      "( 111 / 306 ) Peruvian Resturants in Roosevelt Island, Manhattan:0\n",
      "( 112 / 306 ) Peruvian Resturants in Upper West Side, Manhattan:1\n",
      "( 113 / 306 ) Peruvian Resturants in Lincoln Square, Manhattan:0\n",
      "( 114 / 306 ) Peruvian Resturants in Clinton, Manhattan:2\n",
      "( 115 / 306 ) Peruvian Resturants in Midtown, Manhattan:0\n",
      "( 116 / 306 ) Peruvian Resturants in Murray Hill, Manhattan:0\n",
      "( 117 / 306 ) Peruvian Resturants in Chelsea, Manhattan:0\n",
      "( 118 / 306 ) Peruvian Resturants in Greenwich Village, Manhattan:1\n",
      "( 119 / 306 ) Peruvian Resturants in East Village, Manhattan:0\n",
      "( 120 / 306 ) Peruvian Resturants in Lower East Side, Manhattan:0\n",
      "( 121 / 306 ) Peruvian Resturants in Tribeca, Manhattan:0\n",
      "( 122 / 306 ) Peruvian Resturants in Little Italy, Manhattan:0\n",
      "( 123 / 306 ) Peruvian Resturants in Soho, Manhattan:0\n",
      "( 124 / 306 ) Peruvian Resturants in West Village, Manhattan:1\n",
      "( 125 / 306 ) Peruvian Resturants in Manhattan Valley, Manhattan:1\n",
      "( 126 / 306 ) Peruvian Resturants in Morningside Heights, Manhattan:0\n",
      "( 127 / 306 ) Peruvian Resturants in Gramercy, Manhattan:0\n",
      "( 128 / 306 ) Peruvian Resturants in Battery Park City, Manhattan:0\n",
      "( 129 / 306 ) Peruvian Resturants in Financial District, Manhattan:0\n",
      "( 130 / 306 ) Peruvian Resturants in Astoria, Queens:0\n",
      "( 131 / 306 ) Peruvian Resturants in Woodside, Queens:0\n",
      "( 132 / 306 ) Peruvian Resturants in Jackson Heights, Queens:4\n",
      "( 133 / 306 ) Peruvian Resturants in Elmhurst, Queens:1\n",
      "( 134 / 306 ) Peruvian Resturants in Howard Beach, Queens:0\n",
      "( 135 / 306 ) Peruvian Resturants in Corona, Queens:1\n",
      "( 136 / 306 ) Peruvian Resturants in Forest Hills, Queens:2\n",
      "( 137 / 306 ) Peruvian Resturants in Kew Gardens, Queens:0\n"
     ]
    },
    {
     "name": "stdout",
     "output_type": "stream",
     "text": [
      "( 138 / 306 ) Peruvian Resturants in Richmond Hill, Queens:1\n",
      "( 139 / 306 ) Peruvian Resturants in Flushing, Queens:0\n",
      "( 140 / 306 ) Peruvian Resturants in Long Island City, Queens:0\n",
      "( 141 / 306 ) Peruvian Resturants in Sunnyside, Queens:2\n",
      "( 142 / 306 ) Peruvian Resturants in East Elmhurst, Queens:1\n",
      "( 143 / 306 ) Peruvian Resturants in Maspeth, Queens:1\n",
      "( 144 / 306 ) Peruvian Resturants in Ridgewood, Queens:0\n",
      "( 145 / 306 ) Peruvian Resturants in Glendale, Queens:0\n",
      "( 146 / 306 ) Peruvian Resturants in Rego Park, Queens:3\n",
      "( 147 / 306 ) Peruvian Resturants in Woodhaven, Queens:0\n",
      "( 148 / 306 ) Peruvian Resturants in Ozone Park, Queens:0\n",
      "( 149 / 306 ) Peruvian Resturants in South Ozone Park, Queens:0\n",
      "( 150 / 306 ) Peruvian Resturants in College Point, Queens:0\n",
      "( 151 / 306 ) Peruvian Resturants in Whitestone, Queens:0\n",
      "( 152 / 306 ) Peruvian Resturants in Bayside, Queens:0\n",
      "( 153 / 306 ) Peruvian Resturants in Auburndale, Queens:0\n",
      "( 154 / 306 ) Peruvian Resturants in Little Neck, Queens:1\n",
      "( 155 / 306 ) Peruvian Resturants in Douglaston, Queens:1\n",
      "( 156 / 306 ) Peruvian Resturants in Glen Oaks, Queens:0\n",
      "( 157 / 306 ) Peruvian Resturants in Bellerose, Queens:0\n",
      "( 158 / 306 ) Peruvian Resturants in Kew Gardens Hills, Queens:0\n",
      "( 159 / 306 ) Peruvian Resturants in Fresh Meadows, Queens:0\n",
      "( 160 / 306 ) Peruvian Resturants in Briarwood, Queens:0\n",
      "( 161 / 306 ) Peruvian Resturants in Jamaica Center, Queens:0\n",
      "( 162 / 306 ) Peruvian Resturants in Oakland Gardens, Queens:0\n",
      "( 163 / 306 ) Peruvian Resturants in Queens Village, Queens:0\n",
      "( 164 / 306 ) Peruvian Resturants in Hollis, Queens:0\n",
      "( 165 / 306 ) Peruvian Resturants in South Jamaica, Queens:0\n",
      "( 166 / 306 ) Peruvian Resturants in St. Albans, Queens:0\n",
      "( 167 / 306 ) Peruvian Resturants in Rochdale, Queens:0\n",
      "( 168 / 306 ) Peruvian Resturants in Springfield Gardens, Queens:0\n",
      "( 169 / 306 ) Peruvian Resturants in Cambria Heights, Queens:0\n",
      "( 170 / 306 ) Peruvian Resturants in Rosedale, Queens:0\n",
      "( 171 / 306 ) Peruvian Resturants in Far Rockaway, Queens:0\n",
      "( 172 / 306 ) Peruvian Resturants in Broad Channel, Queens:0\n",
      "( 173 / 306 ) Peruvian Resturants in Breezy Point, Queens:0\n",
      "( 174 / 306 ) Peruvian Resturants in Steinway, Queens:0\n",
      "( 175 / 306 ) Peruvian Resturants in Beechhurst, Queens:0\n",
      "( 176 / 306 ) Peruvian Resturants in Bay Terrace, Queens:0\n",
      "( 177 / 306 ) Peruvian Resturants in Edgemere, Queens:0\n",
      "( 178 / 306 ) Peruvian Resturants in Arverne, Queens:0\n",
      "( 179 / 306 ) Peruvian Resturants in Rockaway Beach, Queens:1\n",
      "( 180 / 306 ) Peruvian Resturants in Neponsit, Queens:0\n",
      "( 181 / 306 ) Peruvian Resturants in Murray Hill, Queens:0\n",
      "( 182 / 306 ) Peruvian Resturants in Floral Park, Queens:0\n",
      "( 183 / 306 ) Peruvian Resturants in Holliswood, Queens:0\n",
      "( 184 / 306 ) Peruvian Resturants in Jamaica Estates, Queens:0\n",
      "( 185 / 306 ) Peruvian Resturants in Queensboro Hill, Queens:0\n",
      "( 186 / 306 ) Peruvian Resturants in Hillcrest, Queens:0\n",
      "( 187 / 306 ) Peruvian Resturants in Ravenswood, Queens:0\n",
      "( 188 / 306 ) Peruvian Resturants in Lindenwood, Queens:0\n",
      "( 189 / 306 ) Peruvian Resturants in Laurelton, Queens:0\n",
      "( 190 / 306 ) Peruvian Resturants in Lefrak City, Queens:1\n",
      "( 191 / 306 ) Peruvian Resturants in Belle Harbor, Queens:0\n",
      "( 192 / 306 ) Peruvian Resturants in Rockaway Park, Queens:0\n",
      "( 193 / 306 ) Peruvian Resturants in Somerville, Queens:0\n",
      "( 194 / 306 ) Peruvian Resturants in Brookville, Queens:0\n",
      "( 195 / 306 ) Peruvian Resturants in Bellaire, Queens:0\n",
      "( 196 / 306 ) Peruvian Resturants in North Corona, Queens:2\n",
      "( 197 / 306 ) Peruvian Resturants in Forest Hills Gardens, Queens:1\n",
      "( 198 / 306 ) Peruvian Resturants in St. George, Staten Island:0\n",
      "( 199 / 306 ) Peruvian Resturants in New Brighton, Staten Island:0\n",
      "( 200 / 306 ) Peruvian Resturants in Stapleton, Staten Island:0\n",
      "( 201 / 306 ) Peruvian Resturants in Rosebank, Staten Island:0\n",
      "( 202 / 306 ) Peruvian Resturants in West Brighton, Staten Island:0\n",
      "( 203 / 306 ) Peruvian Resturants in Grymes Hill, Staten Island:0\n",
      "( 204 / 306 ) Peruvian Resturants in Todt Hill, Staten Island:0\n",
      "( 205 / 306 ) Peruvian Resturants in South Beach, Staten Island:0\n",
      "( 206 / 306 ) Peruvian Resturants in Port Richmond, Staten Island:0\n",
      "( 207 / 306 ) Peruvian Resturants in Mariner's Harbor, Staten Island:0\n",
      "( 208 / 306 ) Peruvian Resturants in Port Ivory, Staten Island:0\n",
      "( 209 / 306 ) Peruvian Resturants in Castleton Corners, Staten Island:0\n",
      "( 210 / 306 ) Peruvian Resturants in New Springville, Staten Island:0\n",
      "( 211 / 306 ) Peruvian Resturants in Travis, Staten Island:0\n",
      "( 212 / 306 ) Peruvian Resturants in New Dorp, Staten Island:0\n",
      "( 213 / 306 ) Peruvian Resturants in Oakwood, Staten Island:0\n",
      "( 214 / 306 ) Peruvian Resturants in Great Kills, Staten Island:0\n",
      "( 215 / 306 ) Peruvian Resturants in Eltingville, Staten Island:0\n",
      "( 216 / 306 ) Peruvian Resturants in Annadale, Staten Island:0\n",
      "( 217 / 306 ) Peruvian Resturants in Woodrow, Staten Island:0\n",
      "( 218 / 306 ) Peruvian Resturants in Tottenville, Staten Island:0\n",
      "( 219 / 306 ) Peruvian Resturants in Tompkinsville, Staten Island:0\n",
      "( 220 / 306 ) Peruvian Resturants in Silver Lake, Staten Island:0\n",
      "( 221 / 306 ) Peruvian Resturants in Sunnyside, Staten Island:0\n",
      "( 222 / 306 ) Peruvian Resturants in Ditmas Park, Brooklyn:0\n",
      "( 223 / 306 ) Peruvian Resturants in Wingate, Brooklyn:0\n",
      "( 224 / 306 ) Peruvian Resturants in Rugby, Brooklyn:0\n",
      "( 225 / 306 ) Peruvian Resturants in Park Hill, Staten Island:1\n",
      "( 226 / 306 ) Peruvian Resturants in Westerleigh, Staten Island:0\n",
      "( 227 / 306 ) Peruvian Resturants in Graniteville, Staten Island:0\n",
      "( 228 / 306 ) Peruvian Resturants in Arlington, Staten Island:0\n",
      "( 229 / 306 ) Peruvian Resturants in Arrochar, Staten Island:0\n",
      "( 230 / 306 ) Peruvian Resturants in Grasmere, Staten Island:1\n",
      "( 231 / 306 ) Peruvian Resturants in Old Town, Staten Island:1\n",
      "( 232 / 306 ) Peruvian Resturants in Dongan Hills, Staten Island:0\n",
      "( 233 / 306 ) Peruvian Resturants in Midland Beach, Staten Island:0\n",
      "( 234 / 306 ) Peruvian Resturants in Grant City, Staten Island:0\n",
      "( 235 / 306 ) Peruvian Resturants in New Dorp Beach, Staten Island:0\n",
      "( 236 / 306 ) Peruvian Resturants in Bay Terrace, Staten Island:0\n",
      "( 237 / 306 ) Peruvian Resturants in Huguenot, Staten Island:0\n",
      "( 238 / 306 ) Peruvian Resturants in Pleasant Plains, Staten Island:0\n",
      "( 239 / 306 ) Peruvian Resturants in Butler Manor, Staten Island:0\n",
      "( 240 / 306 ) Peruvian Resturants in Charleston, Staten Island:0\n",
      "( 241 / 306 ) Peruvian Resturants in Rossville, Staten Island:0\n",
      "( 242 / 306 ) Peruvian Resturants in Arden Heights, Staten Island:0\n",
      "( 243 / 306 ) Peruvian Resturants in Greenridge, Staten Island:0\n",
      "( 244 / 306 ) Peruvian Resturants in Heartland Village, Staten Island:0\n",
      "( 245 / 306 ) Peruvian Resturants in Chelsea, Staten Island:0\n",
      "( 246 / 306 ) Peruvian Resturants in Bloomfield, Staten Island:0\n",
      "( 247 / 306 ) Peruvian Resturants in Bulls Head, Staten Island:0\n",
      "( 248 / 306 ) Peruvian Resturants in Carnegie Hill, Manhattan:1\n",
      "( 249 / 306 ) Peruvian Resturants in Noho, Manhattan:0\n",
      "( 250 / 306 ) Peruvian Resturants in Civic Center, Manhattan:0\n",
      "( 251 / 306 ) Peruvian Resturants in Midtown South, Manhattan:0\n",
      "( 252 / 306 ) Peruvian Resturants in Richmond Town, Staten Island:0\n",
      "( 253 / 306 ) Peruvian Resturants in Shore Acres, Staten Island:0\n",
      "( 254 / 306 ) Peruvian Resturants in Clifton, Staten Island:0\n",
      "( 255 / 306 ) Peruvian Resturants in Concord, Staten Island:1\n",
      "( 256 / 306 ) Peruvian Resturants in Emerson Hill, Staten Island:0\n",
      "( 257 / 306 ) Peruvian Resturants in Randall Manor, Staten Island:0\n",
      "( 258 / 306 ) Peruvian Resturants in Howland Hook, Staten Island:1\n",
      "( 259 / 306 ) Peruvian Resturants in Elm Park, Staten Island:0\n",
      "( 260 / 306 ) Peruvian Resturants in Remsen Village, Brooklyn:0\n",
      "( 261 / 306 ) Peruvian Resturants in New Lots, Brooklyn:0\n",
      "( 262 / 306 ) Peruvian Resturants in Paerdegat Basin, Brooklyn:0\n",
      "( 263 / 306 ) Peruvian Resturants in Mill Basin, Brooklyn:1\n",
      "( 264 / 306 ) Peruvian Resturants in Jamaica Hills, Queens:0\n",
      "( 265 / 306 ) Peruvian Resturants in Utopia, Queens:0\n",
      "( 266 / 306 ) Peruvian Resturants in Pomonok, Queens:0\n",
      "( 267 / 306 ) Peruvian Resturants in Astoria Heights, Queens:0\n",
      "( 268 / 306 ) Peruvian Resturants in Claremont Village, Bronx:0\n",
      "( 269 / 306 ) Peruvian Resturants in Concourse Village, Bronx:0\n",
      "( 270 / 306 ) Peruvian Resturants in Mount Eden, Bronx:0\n"
     ]
    },
    {
     "name": "stdout",
     "output_type": "stream",
     "text": [
      "( 271 / 306 ) Peruvian Resturants in Mount Hope, Bronx:0\n",
      "( 272 / 306 ) Peruvian Resturants in Sutton Place, Manhattan:0\n",
      "( 273 / 306 ) Peruvian Resturants in Hunters Point, Queens:0\n",
      "( 274 / 306 ) Peruvian Resturants in Turtle Bay, Manhattan:0\n",
      "( 275 / 306 ) Peruvian Resturants in Tudor City, Manhattan:0\n",
      "( 276 / 306 ) Peruvian Resturants in Stuyvesant Town, Manhattan:0\n",
      "( 277 / 306 ) Peruvian Resturants in Flatiron, Manhattan:0\n",
      "( 278 / 306 ) Peruvian Resturants in Sunnyside Gardens, Queens:2\n",
      "( 279 / 306 ) Peruvian Resturants in Blissville, Queens:1\n",
      "( 280 / 306 ) Peruvian Resturants in Fulton Ferry, Brooklyn:0\n",
      "( 281 / 306 ) Peruvian Resturants in Vinegar Hill, Brooklyn:1\n",
      "( 282 / 306 ) Peruvian Resturants in Weeksville, Brooklyn:0\n",
      "( 283 / 306 ) Peruvian Resturants in Broadway Junction, Brooklyn:0\n",
      "( 284 / 306 ) Peruvian Resturants in Dumbo, Brooklyn:0\n",
      "( 285 / 306 ) Peruvian Resturants in Manor Heights, Staten Island:0\n",
      "( 286 / 306 ) Peruvian Resturants in Willowbrook, Staten Island:0\n",
      "( 287 / 306 ) Peruvian Resturants in Sandy Ground, Staten Island:0\n",
      "( 288 / 306 ) Peruvian Resturants in Egbertville, Staten Island:0\n",
      "( 289 / 306 ) Peruvian Resturants in Roxbury, Queens:0\n",
      "( 290 / 306 ) Peruvian Resturants in Homecrest, Brooklyn:1\n",
      "( 291 / 306 ) Peruvian Resturants in Middle Village, Queens:0\n",
      "( 292 / 306 ) Peruvian Resturants in Prince's Bay, Staten Island:0\n",
      "( 293 / 306 ) Peruvian Resturants in Lighthouse Hill, Staten Island:0\n",
      "( 294 / 306 ) Peruvian Resturants in Richmond Valley, Staten Island:0\n",
      "( 295 / 306 ) Peruvian Resturants in Malba, Queens:0\n",
      "( 296 / 306 ) Peruvian Resturants in Highland Park, Brooklyn:0\n",
      "( 297 / 306 ) Peruvian Resturants in Madison, Brooklyn:0\n",
      "( 298 / 306 ) Peruvian Resturants in Bronxdale, Bronx:0\n",
      "( 299 / 306 ) Peruvian Resturants in Allerton, Bronx:0\n",
      "( 300 / 306 ) Peruvian Resturants in Kingsbridge Heights, Bronx:0\n",
      "( 301 / 306 ) Peruvian Resturants in Erasmus, Brooklyn:0\n",
      "( 302 / 306 ) Peruvian Resturants in Hudson Yards, Manhattan:2\n",
      "( 303 / 306 ) Peruvian Resturants in Hammels, Queens:1\n",
      "( 304 / 306 ) Peruvian Resturants in Bayswater, Queens:0\n",
      "( 305 / 306 ) Peruvian Resturants in Queensbridge, Queens:0\n",
      "( 306 / 306 ) Peruvian Resturants in Fox Hills, Staten Island:0\n"
     ]
    }
   ],
   "source": [
    "# Preparamos la lista de vecindarios que tienen restaurantes peruanos\n",
    "column_names=['Borough', 'Neighborhood', 'ID','Name']\n",
    "peruvian_rest_ny=pd.DataFrame(columns=column_names)\n",
    "count=1\n",
    "for row in df.values.tolist():\n",
    "    Borough, Neighborhood, Latitude, Longitude=row\n",
    "    venues = get_venues(Latitude,Longitude)\n",
    "    peruvian_resturants=venues[venues['Category']=='Peruvian Restaurant']   \n",
    "    print('(',count,'/',len(df),')','Peruvian Resturants in '+Neighborhood+', '+Borough+':'+str(len(peruvian_resturants)))\n",
    "    for resturant_detail in peruvian_resturants.values.tolist():\n",
    "        id, name , category=resturant_detail\n",
    "        peruvian_rest_ny = peruvian_rest_ny.append({'Borough': Borough,\n",
    "                                                'Neighborhood': Neighborhood, \n",
    "                                                'ID': id,\n",
    "                                                'Name' : name\n",
    "                                               }, ignore_index=True)\n",
    "    count+=1"
   ]
  },
  {
   "cell_type": "markdown",
   "metadata": {},
   "source": [
    "Ahora que tenemos los restaurantes peruanos de NY en el df 'peruvian_rest_ny', lo analizaremos"
   ]
  },
  {
   "cell_type": "code",
   "execution_count": 18,
   "metadata": {},
   "outputs": [
    {
     "data": {
      "text/html": [
       "<div>\n",
       "<style scoped>\n",
       "    .dataframe tbody tr th:only-of-type {\n",
       "        vertical-align: middle;\n",
       "    }\n",
       "\n",
       "    .dataframe tbody tr th {\n",
       "        vertical-align: top;\n",
       "    }\n",
       "\n",
       "    .dataframe thead th {\n",
       "        text-align: right;\n",
       "    }\n",
       "</style>\n",
       "<table border=\"1\" class=\"dataframe\">\n",
       "  <thead>\n",
       "    <tr style=\"text-align: right;\">\n",
       "      <th></th>\n",
       "      <th>Borough</th>\n",
       "      <th>Neighborhood</th>\n",
       "      <th>ID</th>\n",
       "      <th>Name</th>\n",
       "    </tr>\n",
       "  </thead>\n",
       "  <tbody>\n",
       "    <tr>\n",
       "      <th>0</th>\n",
       "      <td>Bronx</td>\n",
       "      <td>Melrose</td>\n",
       "      <td>4daf333f6a23d0da7e9abad9</td>\n",
       "      <td>La Granja Peruvian Restaurant</td>\n",
       "    </tr>\n",
       "    <tr>\n",
       "      <th>1</th>\n",
       "      <td>Bronx</td>\n",
       "      <td>Mott Haven</td>\n",
       "      <td>4bb28791715eef3b9f5e85bb</td>\n",
       "      <td>Pio Pio</td>\n",
       "    </tr>\n",
       "    <tr>\n",
       "      <th>2</th>\n",
       "      <td>Bronx</td>\n",
       "      <td>Mott Haven</td>\n",
       "      <td>4daf333f6a23d0da7e9abad9</td>\n",
       "      <td>La Granja Peruvian Restaurant</td>\n",
       "    </tr>\n",
       "    <tr>\n",
       "      <th>3</th>\n",
       "      <td>Bronx</td>\n",
       "      <td>Port Morris</td>\n",
       "      <td>4bb28791715eef3b9f5e85bb</td>\n",
       "      <td>Pio Pio</td>\n",
       "    </tr>\n",
       "    <tr>\n",
       "      <th>4</th>\n",
       "      <td>Brooklyn</td>\n",
       "      <td>Bath Beach</td>\n",
       "      <td>4e3c94bc483b04e17a8b15a6</td>\n",
       "      <td>La granja</td>\n",
       "    </tr>\n",
       "  </tbody>\n",
       "</table>\n",
       "</div>"
      ],
      "text/plain": [
       "    Borough Neighborhood                        ID  \\\n",
       "0     Bronx      Melrose  4daf333f6a23d0da7e9abad9   \n",
       "1     Bronx   Mott Haven  4bb28791715eef3b9f5e85bb   \n",
       "2     Bronx   Mott Haven  4daf333f6a23d0da7e9abad9   \n",
       "3     Bronx  Port Morris  4bb28791715eef3b9f5e85bb   \n",
       "4  Brooklyn   Bath Beach  4e3c94bc483b04e17a8b15a6   \n",
       "\n",
       "                            Name  \n",
       "0  La Granja Peruvian Restaurant  \n",
       "1                        Pio Pio  \n",
       "2  La Granja Peruvian Restaurant  \n",
       "3                        Pio Pio  \n",
       "4                      La granja  "
      ]
     },
     "execution_count": 18,
     "metadata": {},
     "output_type": "execute_result"
    }
   ],
   "source": [
    "peruvian_rest_ny.head()"
   ]
  },
  {
   "cell_type": "code",
   "execution_count": 19,
   "metadata": {
    "scrolled": true
   },
   "outputs": [
    {
     "data": {
      "text/plain": [
       "(53, 4)"
      ]
     },
     "execution_count": 19,
     "metadata": {},
     "output_type": "execute_result"
    }
   ],
   "source": [
    "peruvian_rest_ny.shape"
   ]
  },
  {
   "cell_type": "markdown",
   "metadata": {},
   "source": [
    "Nos damos cuenta que en NY existen 53 restaurantes en total."
   ]
  },
  {
   "cell_type": "markdown",
   "metadata": {},
   "source": [
    "Creamos un gráfico de barras para poder visualizar mejor la cantidad de restaurantes por cada barrio en NY."
   ]
  },
  {
   "cell_type": "code",
   "execution_count": 21,
   "metadata": {},
   "outputs": [
    {
     "data": {
      "image/png": "[encoded data removed]",
      "text/plain": [
       "<Figure size 900x500 with 1 Axes>"
      ]
     },
     "metadata": {
      "needs_background": "light"
     },
     "output_type": "display_data"
    }
   ],
   "source": [
    "plt.figure(figsize=(9,5), dpi = 100)\n",
    "# title\n",
    "plt.title('Número de Restaurantes Peruanos de cada barrio en la ciudad de NY')\n",
    "#On x-axis\n",
    "plt.xlabel('Barrio', fontsize = 15)\n",
    "#On y-axis\n",
    "plt.ylabel('Nro. de Restaurantes Peruanos', fontsize=15)\n",
    "#giving a bar plot\n",
    "peruvian_rest_ny.groupby('Borough')['ID'].count().plot(kind='bar')\n",
    "#legend\n",
    "plt.legend()\n",
    "#displays the plot\n",
    "plt.show()"
   ]
  },
  {
   "cell_type": "markdown",
   "metadata": {},
   "source": [
    "##### Con el gráfico anterior, podemos concluir que en Queens se encuentran la mayor cantidad de Restaurantes Peruanos"
   ]
  },
  {
   "cell_type": "markdown",
   "metadata": {},
   "source": [
    "Ahora creamos un gráfico para verificar cuantos restaurantes peruanos existen por vecindario en la ciudad de NY"
   ]
  },
  {
   "cell_type": "code",
   "execution_count": 23,
   "metadata": {},
   "outputs": [
    {
     "data": {
      "image/png": "[encoded data removed]",
      "text/plain": [
       "<Figure size 900x500 with 1 Axes>"
      ]
     },
     "metadata": {
      "needs_background": "light"
     },
     "output_type": "display_data"
    }
   ],
   "source": [
    "plt.figure(figsize=(9,5), dpi = 100)\n",
    "# title\n",
    "plt.title('Número de Restaurantes Peruanos de cada vecindario en la ciudad de NY')\n",
    "#On x-axis\n",
    "plt.xlabel('Vecindario', fontsize = 15)\n",
    "#On y-axis\n",
    "plt.ylabel('Nro de Restaurantes Peruanos', fontsize=15)\n",
    "#giving a bar plot\n",
    "peruvian_rest_ny.groupby('Neighborhood')['ID'].count().nlargest(5).plot(kind='bar')\n",
    "#legend\n",
    "plt.legend()\n",
    "\n",
    "plt.show()"
   ]
  },
  {
   "cell_type": "markdown",
   "metadata": {},
   "source": [
    "##### Podemos deducir del gráfico anterior que el vecindario <b> 'Jackson Heights' </b> es el que tiene mayor cantidad de restaurantes de comida peruana, con 4 restaurantes en total."
   ]
  },
  {
   "cell_type": "markdown",
   "metadata": {},
   "source": [
    "Ahora obtendremos el ranking (Likes, rating, tips) de cada restaurante para un análisis más profundo."
   ]
  },
  {
   "cell_type": "code",
   "execution_count": 24,
   "metadata": {},
   "outputs": [
    {
     "name": "stdout",
     "output_type": "stream",
     "text": [
      "                         ID                           Name  Likes  Rating  \\\n",
      "0  4daf333f6a23d0da7e9abad9  La Granja Peruvian Restaurant      5     7.2   \n",
      "\n",
      "   Tips  \n",
      "0     6  \n",
      "( 1 / 53 ) processed\n",
      "                         ID     Name  Likes  Rating  Tips\n",
      "0  4bb28791715eef3b9f5e85bb  Pio Pio     67     8.6    23\n",
      "( 2 / 53 ) processed\n",
      "                         ID                           Name  Likes  Rating  \\\n",
      "0  4daf333f6a23d0da7e9abad9  La Granja Peruvian Restaurant      5     7.2   \n",
      "\n",
      "   Tips  \n",
      "0     6  \n",
      "( 3 / 53 ) processed\n",
      "                         ID     Name  Likes  Rating  Tips\n",
      "0  4bb28791715eef3b9f5e85bb  Pio Pio     67     8.6    23\n",
      "( 4 / 53 ) processed\n",
      "                         ID       Name  Likes  Rating  Tips\n",
      "0  4e3c94bc483b04e17a8b15a6  La granja      6     6.8     6\n",
      "( 5 / 53 ) processed\n",
      "                         ID         Name  Likes  Rating  Tips\n",
      "0  53d1a481498e1fac7c37f675  Pollo d'Oro     47     8.5    17\n",
      "( 6 / 53 ) processed\n",
      "                         ID                      Name  Likes  Rating  Tips\n",
      "0  53cb315f498e5a7d7afbf60a  Lima Peruvian Restaurant      7     8.0     4\n",
      "( 7 / 53 ) processed\n",
      "                         ID                      Name  Likes  Rating  Tips\n",
      "0  53cb315f498e5a7d7afbf60a  Lima Peruvian Restaurant      7     8.0     4\n",
      "( 8 / 53 ) processed\n",
      "                         ID     Name  Likes  Rating  Tips\n",
      "0  4a1a1373f964a5207e7a1fe3  Pio Pio    167     8.4    72\n",
      "( 9 / 53 ) processed\n",
      "                         ID          Name  Likes  Rating  Tips\n",
      "0  4a7a543df964a5202ee91fe3  Flor de Mayo    201     8.4    92\n",
      "( 10 / 53 ) processed\n",
      "                         ID     Name  Likes  Rating  Tips\n",
      "0  4b1b1f52f964a52074f823e3  Pio Pio   1126     8.9   331\n",
      "( 11 / 53 ) processed\n",
      "                         ID   Name  Likes  Rating  Tips\n",
      "0  5babb7988194fc002c109112  Chirp     13     8.8     3\n",
      "( 12 / 53 ) processed\n",
      "                         ID       Name  Likes  Rating  Tips\n",
      "0  5b95359481a0ea002cdce0ce  Llama-San     86     9.1    16\n",
      "( 13 / 53 ) processed\n",
      "                         ID       Name  Likes  Rating  Tips\n",
      "0  5b95359481a0ea002cdce0ce  Llama-San     86     9.1    16\n",
      "( 14 / 53 ) processed\n",
      "                         ID           Name  Likes  Rating  Tips\n",
      "0  4ac29b8af964a520f79920e3  Pio Pio Salon    264     8.6    82\n",
      "( 15 / 53 ) processed\n",
      "                         ID      Name  Likes  Rating  Tips\n",
      "0  4b9ece55f964a520590337e3  Urubamba     98     8.5    51\n",
      "( 16 / 53 ) processed\n",
      "                         ID     Name  Likes  Rating  Tips\n",
      "0  4b8344cff964a520f0ff30e3  Pio Pio    310     8.2   109\n",
      "( 17 / 53 ) processed\n",
      "                         ID           Name  Likes  Rating  Tips\n",
      "0  4f9771e4e5e8dedda9c72330  Pio Pio to Go     24     8.3     5\n",
      "( 18 / 53 ) processed\n",
      "                         ID            Name  Likes  Rating  Tips\n",
      "0  557870be498e72ac68e380c0  Juanita’s Café      7     7.5     2\n",
      "( 19 / 53 ) processed\n",
      "                         ID      Name  Likes  Rating  Tips\n",
      "0  4b9ece55f964a520590337e3  Urubamba     98     8.5    51\n",
      "( 20 / 53 ) processed\n",
      "                         ID                              Name  Likes  Rating  \\\n",
      "0  4c6709cd9cedd13a7e7d77a1  Las Delicias Peruvian Restaurant     12     8.5   \n",
      "\n",
      "   Tips  \n",
      "0     8  \n",
      "( 21 / 53 ) processed\n",
      "                         ID                Name  Likes  Rating  Tips\n",
      "0  54568cc5498ed42af61bc55d  Tu Casa Restaurant     10     7.9     4\n",
      "( 22 / 53 ) processed\n",
      "                         ID        Name  Likes  Rating  Tips\n",
      "0  4b37cf54f964a520924625e3  Cuzco Peru     14     7.2     7\n",
      "( 23 / 53 ) processed\n",
      "                         ID                  Name  Likes  Rating  Tips\n",
      "0  4ccb05c1ba0a5481bde73359  Armando's Pollo Rico     10     7.8    10\n",
      "( 24 / 53 ) processed\n",
      "                         ID          Name  Likes  Rating  Tips\n",
      "0  51ec2df8498ee2a4dc8ee843  Don Pollo II      7     7.8     2\n",
      "( 25 / 53 ) processed\n",
      "                         ID  Name  Likes  Rating  Tips\n",
      "0  4b942c0cf964a5209f6c34e3  Riko     50     8.0    36\n",
      "( 26 / 53 ) processed\n",
      "                         ID       Name  Likes  Rating  Tips\n",
      "0  4d8ff6121d06b1f7df516b3b  Pico Rico      6     6.0    11\n",
      "( 27 / 53 ) processed\n",
      "                         ID              Name  Likes  Rating  Tips\n",
      "0  517467bde4b054415fe7c948  Andrea's Chicken     10     8.2     7\n",
      "( 28 / 53 ) processed\n",
      "                         ID      Name  Likes  Rating  Tips\n",
      "0  4ede24237ee5f354d5122374  Don Alex     25     7.4    13\n",
      "( 29 / 53 ) processed\n",
      "                         ID        Name  Likes  Rating  Tips\n",
      "0  4b37cf54f964a520924625e3  Cuzco Peru     14     7.2     7\n",
      "( 30 / 53 ) processed\n",
      "                         ID                Name  Likes  Rating  Tips\n",
      "0  54568cc5498ed42af61bc55d  Tu Casa Restaurant     10     7.9     4\n",
      "( 31 / 53 ) processed\n",
      "                         ID                Name  Likes  Rating  Tips\n",
      "0  52d1e8f4498e56474f235066  Lima 33 Restaurant     27     8.6     4\n",
      "( 32 / 53 ) processed\n",
      "                         ID                Name  Likes  Rating  Tips\n",
      "0  52d1e8f4498e56474f235066  Lima 33 Restaurant     27     8.6     4\n",
      "( 33 / 53 ) processed\n",
      "Empty DataFrame\n",
      "Columns: [ID, Name, Likes, Rating, Tips]\n",
      "Index: []\n",
      "No data available for id= 59fe4d07002f4c7d11b95b0a\n",
      "( 34 / 53 ) processed\n",
      "                         ID      Name  Likes  Rating  Tips\n",
      "0  4ede24237ee5f354d5122374  Don Alex     25     7.4    13\n",
      "( 35 / 53 ) processed\n",
      "                         ID                              Name  Likes  Rating  \\\n",
      "0  4c6709cd9cedd13a7e7d77a1  Las Delicias Peruvian Restaurant     12     8.5   \n",
      "\n",
      "   Tips  \n",
      "0     8  \n",
      "( 36 / 53 ) processed\n",
      "                         ID       Name  Likes  Rating  Tips\n",
      "0  4d8ff6121d06b1f7df516b3b  Pico Rico      6     6.0    11\n",
      "( 37 / 53 ) processed\n",
      "                         ID           Name  Likes  Rating  Tips\n",
      "0  4bddf8396198c9b63e6c12ff  El Pollo Inka     28     7.6    22\n",
      "( 38 / 53 ) processed\n",
      "                         ID                           Name  Likes  Rating  \\\n",
      "0  536eb74e498e9a6b05cc9939  Inca's Grill Peruvian Cuisine     18     7.5   \n",
      "\n",
      "   Tips  \n",
      "0     8  \n",
      "( 39 / 53 ) processed\n",
      "                         ID                           Name  Likes  Rating  \\\n",
      "0  536eb74e498e9a6b05cc9939  Inca's Grill Peruvian Cuisine     18     7.5   \n",
      "\n",
      "   Tips  \n",
      "0     8  \n",
      "( 40 / 53 ) processed\n",
      "                         ID                           Name  Likes  Rating  \\\n",
      "0  536eb74e498e9a6b05cc9939  Inca's Grill Peruvian Cuisine     18     7.5   \n",
      "\n",
      "   Tips  \n",
      "0     8  \n",
      "( 41 / 53 ) processed\n",
      "                         ID     Name  Likes  Rating  Tips\n",
      "0  4a1a1373f964a5207e7a1fe3  Pio Pio    167     8.4    72\n",
      "( 42 / 53 ) processed\n",
      "                         ID                           Name  Likes  Rating  \\\n",
      "0  536eb74e498e9a6b05cc9939  Inca's Grill Peruvian Cuisine     18     7.5   \n",
      "\n",
      "   Tips  \n",
      "0     8  \n",
      "( 43 / 53 ) processed\n",
      "                         ID       Name  Likes  Rating  Tips\n",
      "0  4d0408ab8620224b93a8a640  Don Julio     17     7.0     7\n",
      "( 44 / 53 ) processed\n",
      "                         ID                      Name  Likes  Rating  Tips\n",
      "0  53cb315f498e5a7d7afbf60a  Lima Peruvian Restaurant      7     8.0     4\n",
      "( 45 / 53 ) processed\n",
      "                         ID  Name  Likes  Rating  Tips\n",
      "0  4b942c0cf964a5209f6c34e3  Riko     50     8.0    36\n",
      "( 46 / 53 ) processed\n",
      "                         ID          Name  Likes  Rating  Tips\n",
      "0  51ec2df8498ee2a4dc8ee843  Don Pollo II      7     7.8     2\n",
      "( 47 / 53 ) processed\n",
      "                         ID          Name  Likes  Rating  Tips\n",
      "0  51ec2df8498ee2a4dc8ee843  Don Pollo II      7     7.8     2\n",
      "( 48 / 53 ) processed\n",
      "                         ID         Name  Likes  Rating  Tips\n",
      "0  53d1a481498e1fac7c37f675  Pollo d'Oro     47     8.5    17\n",
      "( 49 / 53 ) processed\n",
      "                         ID                Name  Likes  Rating  Tips\n",
      "0  4c12cbd7b7b9c928ef7ca837  Coney Island Taste      7     7.6     4\n",
      "( 50 / 53 ) processed\n",
      "                         ID   Name  Likes  Rating  Tips\n",
      "0  5babb7988194fc002c109112  Chirp     13     8.8     3\n",
      "( 51 / 53 ) processed\n",
      "                         ID     Name  Likes  Rating  Tips\n",
      "0  4b1b1f52f964a52074f823e3  Pio Pio   1126     8.9   331\n",
      "( 52 / 53 ) processed\n",
      "Empty DataFrame\n",
      "Columns: [ID, Name, Likes, Rating, Tips]\n",
      "Index: []\n",
      "No data available for id= 59fe4d07002f4c7d11b95b0a\n",
      "( 53 / 53 ) processed\n"
     ]
    }
   ],
   "source": [
    "column_names=['Borough', 'Neighborhood', 'ID','Name','Likes','Rating','Tips']\n",
    "peruvian_rest_stats_ny=pd.DataFrame(columns=column_names)\n",
    "count=1\n",
    "\n",
    "\n",
    "for row in peruvian_rest_ny.values.tolist():\n",
    "    Borough,Neighborhood,ID,Name=row\n",
    "    try:\n",
    "        venue_details=get_venue_details(ID)\n",
    "        print(venue_details)\n",
    "        id,name,likes,rating,tips=venue_details.values.tolist()[0]\n",
    "    except IndexError:\n",
    "        print('No data available for id=',ID)\n",
    "        # Asignaremos el valor de 0 para aquellos restaurantes que recién han abierto o su detalle no existe en la bd del API.\n",
    "        id,name,likes,rating,tips=[0]*5\n",
    "    print('(',count,'/',len(peruvian_rest_ny),')','processed')\n",
    "    peruvian_rest_stats_ny = peruvian_rest_stats_ny.append({'Borough': Borough,\n",
    "                                                'Neighborhood': Neighborhood, \n",
    "                                                'ID': id,\n",
    "                                                'Name' : name,\n",
    "                                                'Likes' : likes,\n",
    "                                                'Rating' : rating,\n",
    "                                                'Tips' : tips\n",
    "                                               }, ignore_index=True)\n",
    "    count+=1"
   ]
  },
  {
   "cell_type": "code",
   "execution_count": 25,
   "metadata": {},
   "outputs": [
    {
     "data": {
      "text/html": [
       "<div>\n",
       "<style scoped>\n",
       "    .dataframe tbody tr th:only-of-type {\n",
       "        vertical-align: middle;\n",
       "    }\n",
       "\n",
       "    .dataframe tbody tr th {\n",
       "        vertical-align: top;\n",
       "    }\n",
       "\n",
       "    .dataframe thead th {\n",
       "        text-align: right;\n",
       "    }\n",
       "</style>\n",
       "<table border=\"1\" class=\"dataframe\">\n",
       "  <thead>\n",
       "    <tr style=\"text-align: right;\">\n",
       "      <th></th>\n",
       "      <th>Borough</th>\n",
       "      <th>Neighborhood</th>\n",
       "      <th>ID</th>\n",
       "      <th>Name</th>\n",
       "      <th>Likes</th>\n",
       "      <th>Rating</th>\n",
       "      <th>Tips</th>\n",
       "    </tr>\n",
       "  </thead>\n",
       "  <tbody>\n",
       "    <tr>\n",
       "      <th>0</th>\n",
       "      <td>Bronx</td>\n",
       "      <td>Melrose</td>\n",
       "      <td>4daf333f6a23d0da7e9abad9</td>\n",
       "      <td>La Granja Peruvian Restaurant</td>\n",
       "      <td>5</td>\n",
       "      <td>7.2</td>\n",
       "      <td>6</td>\n",
       "    </tr>\n",
       "    <tr>\n",
       "      <th>1</th>\n",
       "      <td>Bronx</td>\n",
       "      <td>Mott Haven</td>\n",
       "      <td>4bb28791715eef3b9f5e85bb</td>\n",
       "      <td>Pio Pio</td>\n",
       "      <td>67</td>\n",
       "      <td>8.6</td>\n",
       "      <td>23</td>\n",
       "    </tr>\n",
       "    <tr>\n",
       "      <th>2</th>\n",
       "      <td>Bronx</td>\n",
       "      <td>Mott Haven</td>\n",
       "      <td>4daf333f6a23d0da7e9abad9</td>\n",
       "      <td>La Granja Peruvian Restaurant</td>\n",
       "      <td>5</td>\n",
       "      <td>7.2</td>\n",
       "      <td>6</td>\n",
       "    </tr>\n",
       "    <tr>\n",
       "      <th>3</th>\n",
       "      <td>Bronx</td>\n",
       "      <td>Port Morris</td>\n",
       "      <td>4bb28791715eef3b9f5e85bb</td>\n",
       "      <td>Pio Pio</td>\n",
       "      <td>67</td>\n",
       "      <td>8.6</td>\n",
       "      <td>23</td>\n",
       "    </tr>\n",
       "    <tr>\n",
       "      <th>4</th>\n",
       "      <td>Brooklyn</td>\n",
       "      <td>Bath Beach</td>\n",
       "      <td>4e3c94bc483b04e17a8b15a6</td>\n",
       "      <td>La granja</td>\n",
       "      <td>6</td>\n",
       "      <td>6.8</td>\n",
       "      <td>6</td>\n",
       "    </tr>\n",
       "  </tbody>\n",
       "</table>\n",
       "</div>"
      ],
      "text/plain": [
       "    Borough Neighborhood                        ID  \\\n",
       "0     Bronx      Melrose  4daf333f6a23d0da7e9abad9   \n",
       "1     Bronx   Mott Haven  4bb28791715eef3b9f5e85bb   \n",
       "2     Bronx   Mott Haven  4daf333f6a23d0da7e9abad9   \n",
       "3     Bronx  Port Morris  4bb28791715eef3b9f5e85bb   \n",
       "4  Brooklyn   Bath Beach  4e3c94bc483b04e17a8b15a6   \n",
       "\n",
       "                            Name Likes  Rating Tips  \n",
       "0  La Granja Peruvian Restaurant     5     7.2    6  \n",
       "1                        Pio Pio    67     8.6   23  \n",
       "2  La Granja Peruvian Restaurant     5     7.2    6  \n",
       "3                        Pio Pio    67     8.6   23  \n",
       "4                      La granja     6     6.8    6  "
      ]
     },
     "execution_count": 25,
     "metadata": {},
     "output_type": "execute_result"
    }
   ],
   "source": [
    "peruvian_rest_stats_ny.head()"
   ]
  },
  {
   "cell_type": "code",
   "execution_count": 26,
   "metadata": {},
   "outputs": [
    {
     "data": {
      "text/plain": [
       "((53, 7), (53, 4))"
      ]
     },
     "execution_count": 26,
     "metadata": {},
     "output_type": "execute_result"
    }
   ],
   "source": [
    "peruvian_rest_stats_ny.shape, peruvian_rest_ny.shape"
   ]
  },
  {
   "cell_type": "markdown",
   "metadata": {},
   "source": [
    "Por temas de comodidad, cambiaré el nombre del df"
   ]
  },
  {
   "cell_type": "code",
   "execution_count": 28,
   "metadata": {},
   "outputs": [],
   "source": [
    "df_perurest_ny = peruvian_rest_stats_ny"
   ]
  },
  {
   "cell_type": "markdown",
   "metadata": {},
   "source": [
    "Verificamos que el tamaño sea el mismo, al igual que su información"
   ]
  },
  {
   "cell_type": "code",
   "execution_count": 29,
   "metadata": {},
   "outputs": [
    {
     "data": {
      "text/plain": [
       "(53, 7)"
      ]
     },
     "execution_count": 29,
     "metadata": {},
     "output_type": "execute_result"
    }
   ],
   "source": [
    "df_perurest_ny.shape"
   ]
  },
  {
   "cell_type": "code",
   "execution_count": 30,
   "metadata": {
    "scrolled": true
   },
   "outputs": [
    {
     "data": {
      "text/html": [
       "<div>\n",
       "<style scoped>\n",
       "    .dataframe tbody tr th:only-of-type {\n",
       "        vertical-align: middle;\n",
       "    }\n",
       "\n",
       "    .dataframe tbody tr th {\n",
       "        vertical-align: top;\n",
       "    }\n",
       "\n",
       "    .dataframe thead th {\n",
       "        text-align: right;\n",
       "    }\n",
       "</style>\n",
       "<table border=\"1\" class=\"dataframe\">\n",
       "  <thead>\n",
       "    <tr style=\"text-align: right;\">\n",
       "      <th></th>\n",
       "      <th>Borough</th>\n",
       "      <th>Neighborhood</th>\n",
       "      <th>ID</th>\n",
       "      <th>Name</th>\n",
       "      <th>Likes</th>\n",
       "      <th>Rating</th>\n",
       "      <th>Tips</th>\n",
       "    </tr>\n",
       "  </thead>\n",
       "  <tbody>\n",
       "    <tr>\n",
       "      <th>0</th>\n",
       "      <td>Bronx</td>\n",
       "      <td>Melrose</td>\n",
       "      <td>4daf333f6a23d0da7e9abad9</td>\n",
       "      <td>La Granja Peruvian Restaurant</td>\n",
       "      <td>5</td>\n",
       "      <td>7.2</td>\n",
       "      <td>6</td>\n",
       "    </tr>\n",
       "    <tr>\n",
       "      <th>1</th>\n",
       "      <td>Bronx</td>\n",
       "      <td>Mott Haven</td>\n",
       "      <td>4bb28791715eef3b9f5e85bb</td>\n",
       "      <td>Pio Pio</td>\n",
       "      <td>67</td>\n",
       "      <td>8.6</td>\n",
       "      <td>23</td>\n",
       "    </tr>\n",
       "    <tr>\n",
       "      <th>2</th>\n",
       "      <td>Bronx</td>\n",
       "      <td>Mott Haven</td>\n",
       "      <td>4daf333f6a23d0da7e9abad9</td>\n",
       "      <td>La Granja Peruvian Restaurant</td>\n",
       "      <td>5</td>\n",
       "      <td>7.2</td>\n",
       "      <td>6</td>\n",
       "    </tr>\n",
       "    <tr>\n",
       "      <th>3</th>\n",
       "      <td>Bronx</td>\n",
       "      <td>Port Morris</td>\n",
       "      <td>4bb28791715eef3b9f5e85bb</td>\n",
       "      <td>Pio Pio</td>\n",
       "      <td>67</td>\n",
       "      <td>8.6</td>\n",
       "      <td>23</td>\n",
       "    </tr>\n",
       "    <tr>\n",
       "      <th>4</th>\n",
       "      <td>Brooklyn</td>\n",
       "      <td>Bath Beach</td>\n",
       "      <td>4e3c94bc483b04e17a8b15a6</td>\n",
       "      <td>La granja</td>\n",
       "      <td>6</td>\n",
       "      <td>6.8</td>\n",
       "      <td>6</td>\n",
       "    </tr>\n",
       "  </tbody>\n",
       "</table>\n",
       "</div>"
      ],
      "text/plain": [
       "    Borough Neighborhood                        ID  \\\n",
       "0     Bronx      Melrose  4daf333f6a23d0da7e9abad9   \n",
       "1     Bronx   Mott Haven  4bb28791715eef3b9f5e85bb   \n",
       "2     Bronx   Mott Haven  4daf333f6a23d0da7e9abad9   \n",
       "3     Bronx  Port Morris  4bb28791715eef3b9f5e85bb   \n",
       "4  Brooklyn   Bath Beach  4e3c94bc483b04e17a8b15a6   \n",
       "\n",
       "                            Name Likes  Rating Tips  \n",
       "0  La Granja Peruvian Restaurant     5     7.2    6  \n",
       "1                        Pio Pio    67     8.6   23  \n",
       "2  La Granja Peruvian Restaurant     5     7.2    6  \n",
       "3                        Pio Pio    67     8.6   23  \n",
       "4                      La granja     6     6.8    6  "
      ]
     },
     "execution_count": 30,
     "metadata": {},
     "output_type": "execute_result"
    }
   ],
   "source": [
    "df_perurest_ny.head()"
   ]
  },
  {
   "cell_type": "code",
   "execution_count": 31,
   "metadata": {},
   "outputs": [
    {
     "name": "stdout",
     "output_type": "stream",
     "text": [
      "<class 'pandas.core.frame.DataFrame'>\n",
      "RangeIndex: 53 entries, 0 to 52\n",
      "Data columns (total 7 columns):\n",
      " #   Column        Non-Null Count  Dtype  \n",
      "---  ------        --------------  -----  \n",
      " 0   Borough       53 non-null     object \n",
      " 1   Neighborhood  53 non-null     object \n",
      " 2   ID            53 non-null     object \n",
      " 3   Name          53 non-null     object \n",
      " 4   Likes         53 non-null     object \n",
      " 5   Rating        53 non-null     float64\n",
      " 6   Tips          53 non-null     object \n",
      "dtypes: float64(1), object(6)\n",
      "memory usage: 3.0+ KB\n"
     ]
    }
   ],
   "source": [
    "df_perurest_ny.info()"
   ]
  },
  {
   "cell_type": "markdown",
   "metadata": {},
   "source": [
    "Las columnas 'Likes'  y 'Tips' están como tipo <i> String </i>. Los convertiremos a tipo 'float' para un mejor análisis"
   ]
  },
  {
   "cell_type": "code",
   "execution_count": 32,
   "metadata": {},
   "outputs": [],
   "source": [
    "df_perurest_ny['Likes']=df_perurest_ny['Likes'].astype('float64')\n",
    "df_perurest_ny['Tips']=df_perurest_ny['Tips'].astype('float64')"
   ]
  },
  {
   "cell_type": "code",
   "execution_count": 33,
   "metadata": {},
   "outputs": [
    {
     "name": "stdout",
     "output_type": "stream",
     "text": [
      "<class 'pandas.core.frame.DataFrame'>\n",
      "RangeIndex: 53 entries, 0 to 52\n",
      "Data columns (total 7 columns):\n",
      " #   Column        Non-Null Count  Dtype  \n",
      "---  ------        --------------  -----  \n",
      " 0   Borough       53 non-null     object \n",
      " 1   Neighborhood  53 non-null     object \n",
      " 2   ID            53 non-null     object \n",
      " 3   Name          53 non-null     object \n",
      " 4   Likes         53 non-null     float64\n",
      " 5   Rating        53 non-null     float64\n",
      " 6   Tips          53 non-null     float64\n",
      "dtypes: float64(3), object(4)\n",
      "memory usage: 3.0+ KB\n"
     ]
    }
   ],
   "source": [
    "df_perurest_ny.info()"
   ]
  },
  {
   "cell_type": "markdown",
   "metadata": {},
   "source": [
    "##### Ahora encontraremos los restaurantes peruanos con el mayor número de Likes, mayor rating y el mayor número de tips"
   ]
  },
  {
   "cell_type": "code",
   "execution_count": 34,
   "metadata": {},
   "outputs": [
    {
     "data": {
      "text/plain": [
       "Borough                        Manhattan\n",
       "Neighborhood                     Clinton\n",
       "ID              4b1b1f52f964a52074f823e3\n",
       "Name                             Pio Pio\n",
       "Likes                               1126\n",
       "Rating                               8.9\n",
       "Tips                                 331\n",
       "Name: 10, dtype: object"
      ]
     },
     "execution_count": 34,
     "metadata": {},
     "output_type": "execute_result"
    }
   ],
   "source": [
    "# Restaurante con el mayor número de Likes\n",
    "df_perurest_ny.iloc[df_perurest_ny['Likes'].idxmax()]"
   ]
  },
  {
   "cell_type": "code",
   "execution_count": 36,
   "metadata": {},
   "outputs": [
    {
     "data": {
      "text/plain": [
       "Borough                        Manhattan\n",
       "Neighborhood           Greenwich Village\n",
       "ID              5b95359481a0ea002cdce0ce\n",
       "Name                           Llama-San\n",
       "Likes                                 86\n",
       "Rating                               9.1\n",
       "Tips                                  16\n",
       "Name: 12, dtype: object"
      ]
     },
     "execution_count": 36,
     "metadata": {},
     "output_type": "execute_result"
    }
   ],
   "source": [
    "# Restaurante con el mayor Rating\n",
    "df_perurest_ny.iloc[df_perurest_ny['Rating'].idxmax()]"
   ]
  },
  {
   "cell_type": "code",
   "execution_count": 37,
   "metadata": {
    "scrolled": true
   },
   "outputs": [
    {
     "data": {
      "text/plain": [
       "Borough                        Manhattan\n",
       "Neighborhood                     Clinton\n",
       "ID              4b1b1f52f964a52074f823e3\n",
       "Name                             Pio Pio\n",
       "Likes                               1126\n",
       "Rating                               8.9\n",
       "Tips                                 331\n",
       "Name: 10, dtype: object"
      ]
     },
     "execution_count": 37,
     "metadata": {},
     "output_type": "execute_result"
    }
   ],
   "source": [
    "# Resturante con la mayor cantidad de Tips\n",
    "df_perurest_ny.iloc[df_perurest_ny['Tips'].idxmax()]"
   ]
  },
  {
   "cell_type": "markdown",
   "metadata": {},
   "source": [
    "##### A simple vista, podemos decir que el restaurant 'Pio Pio' Que se encuentra en Clinton, Manhattan es el que tiene mayor Likes y Tips."
   ]
  },
  {
   "cell_type": "markdown",
   "metadata": {},
   "source": [
    "Ordenaremos los vecindarios según el máximo promedio de rating de los restaurantes"
   ]
  },
  {
   "cell_type": "code",
   "execution_count": 62,
   "metadata": {
    "scrolled": false
   },
   "outputs": [
    {
     "data": {
      "text/html": [
       "<div>\n",
       "<style scoped>\n",
       "    .dataframe tbody tr th:only-of-type {\n",
       "        vertical-align: middle;\n",
       "    }\n",
       "\n",
       "    .dataframe tbody tr th {\n",
       "        vertical-align: top;\n",
       "    }\n",
       "\n",
       "    .dataframe thead th {\n",
       "        text-align: right;\n",
       "    }\n",
       "</style>\n",
       "<table border=\"1\" class=\"dataframe\">\n",
       "  <thead>\n",
       "    <tr style=\"text-align: right;\">\n",
       "      <th></th>\n",
       "      <th>Neighborhood</th>\n",
       "      <th>Average Rating</th>\n",
       "    </tr>\n",
       "  </thead>\n",
       "  <tbody>\n",
       "    <tr>\n",
       "      <th>39</th>\n",
       "      <td>West Village</td>\n",
       "      <td>9.10</td>\n",
       "    </tr>\n",
       "    <tr>\n",
       "      <th>15</th>\n",
       "      <td>Greenwich Village</td>\n",
       "      <td>9.10</td>\n",
       "    </tr>\n",
       "    <tr>\n",
       "      <th>19</th>\n",
       "      <td>Hudson Yards</td>\n",
       "      <td>8.85</td>\n",
       "    </tr>\n",
       "    <tr>\n",
       "      <th>4</th>\n",
       "      <td>Clinton</td>\n",
       "      <td>8.85</td>\n",
       "    </tr>\n",
       "    <tr>\n",
       "      <th>7</th>\n",
       "      <td>Douglaston</td>\n",
       "      <td>8.60</td>\n",
       "    </tr>\n",
       "    <tr>\n",
       "      <th>31</th>\n",
       "      <td>Port Morris</td>\n",
       "      <td>8.60</td>\n",
       "    </tr>\n",
       "    <tr>\n",
       "      <th>23</th>\n",
       "      <td>Manhattan Valley</td>\n",
       "      <td>8.60</td>\n",
       "    </tr>\n",
       "    <tr>\n",
       "      <th>22</th>\n",
       "      <td>Little Neck</td>\n",
       "      <td>8.60</td>\n",
       "    </tr>\n",
       "    <tr>\n",
       "      <th>38</th>\n",
       "      <td>Vinegar Hill</td>\n",
       "      <td>8.50</td>\n",
       "    </tr>\n",
       "    <tr>\n",
       "      <th>6</th>\n",
       "      <td>Corona</td>\n",
       "      <td>8.50</td>\n",
       "    </tr>\n",
       "  </tbody>\n",
       "</table>\n",
       "</div>"
      ],
      "text/plain": [
       "         Neighborhood  Average Rating\n",
       "39       West Village            9.10\n",
       "15  Greenwich Village            9.10\n",
       "19       Hudson Yards            8.85\n",
       "4             Clinton            8.85\n",
       "7          Douglaston            8.60\n",
       "31        Port Morris            8.60\n",
       "23   Manhattan Valley            8.60\n",
       "22        Little Neck            8.60\n",
       "38       Vinegar Hill            8.50\n",
       "6              Corona            8.50"
      ]
     },
     "execution_count": 62,
     "metadata": {},
     "output_type": "execute_result"
    }
   ],
   "source": [
    "ny_nb_rating=peruvian_rest_stats_ny.groupby('Neighborhood',as_index=False).mean()[['Neighborhood','Rating']]\n",
    "ny_nb_rating.columns=['Neighborhood','Average Rating']\n",
    "ny_nb_rating.sort_values(['Average Rating'],ascending=False).head(10)"
   ]
  },
  {
   "cell_type": "markdown",
   "metadata": {},
   "source": [
    "###### Vemos que los vecindarios con mejor promedio de Rating son West Village y Greenwich Village que superan el 9.0 de puntaje."
   ]
  },
  {
   "cell_type": "markdown",
   "metadata": {},
   "source": [
    "Realizaremos el mismo análisis pero en este caso para los barrios."
   ]
  },
  {
   "cell_type": "code",
   "execution_count": 63,
   "metadata": {
    "scrolled": true
   },
   "outputs": [
    {
     "data": {
      "text/html": [
       "<div>\n",
       "<style scoped>\n",
       "    .dataframe tbody tr th:only-of-type {\n",
       "        vertical-align: middle;\n",
       "    }\n",
       "\n",
       "    .dataframe tbody tr th {\n",
       "        vertical-align: top;\n",
       "    }\n",
       "\n",
       "    .dataframe thead th {\n",
       "        text-align: right;\n",
       "    }\n",
       "</style>\n",
       "<table border=\"1\" class=\"dataframe\">\n",
       "  <thead>\n",
       "    <tr style=\"text-align: right;\">\n",
       "      <th></th>\n",
       "      <th>Borough</th>\n",
       "      <th>Average Rating</th>\n",
       "    </tr>\n",
       "  </thead>\n",
       "  <tbody>\n",
       "    <tr>\n",
       "      <th>2</th>\n",
       "      <td>Manhattan</td>\n",
       "      <td>8.740000</td>\n",
       "    </tr>\n",
       "    <tr>\n",
       "      <th>1</th>\n",
       "      <td>Brooklyn</td>\n",
       "      <td>7.914286</td>\n",
       "    </tr>\n",
       "    <tr>\n",
       "      <th>0</th>\n",
       "      <td>Bronx</td>\n",
       "      <td>7.900000</td>\n",
       "    </tr>\n",
       "    <tr>\n",
       "      <th>4</th>\n",
       "      <td>Staten Island</td>\n",
       "      <td>7.400000</td>\n",
       "    </tr>\n",
       "    <tr>\n",
       "      <th>3</th>\n",
       "      <td>Queens</td>\n",
       "      <td>7.229630</td>\n",
       "    </tr>\n",
       "  </tbody>\n",
       "</table>\n",
       "</div>"
      ],
      "text/plain": [
       "         Borough  Average Rating\n",
       "2      Manhattan        8.740000\n",
       "1       Brooklyn        7.914286\n",
       "0          Bronx        7.900000\n",
       "4  Staten Island        7.400000\n",
       "3         Queens        7.229630"
      ]
     },
     "execution_count": 63,
     "metadata": {},
     "output_type": "execute_result"
    }
   ],
   "source": [
    "ny_b_stats=peruvian_rest_stats_ny.groupby('Borough',as_index=False).mean()[['Borough','Rating']]\n",
    "ny_b_stats.columns=['Borough','Average Rating']\n",
    "ny_b_stats.sort_values(['Average Rating'],ascending=False).head()"
   ]
  },
  {
   "cell_type": "markdown",
   "metadata": {},
   "source": [
    "Creamos un gráfico de barras para visualizarlo mejor: "
   ]
  },
  {
   "cell_type": "code",
   "execution_count": 64,
   "metadata": {
    "scrolled": true
   },
   "outputs": [
    {
     "data": {
      "image/png": "[encoded data removed]",
      "text/plain": [
       "<Figure size 900x500 with 1 Axes>"
      ]
     },
     "metadata": {
      "needs_background": "light"
     },
     "output_type": "display_data"
    }
   ],
   "source": [
    "plt.figure(figsize=(9,5), dpi = 100)\n",
    "# title\n",
    "plt.title('Rating promedio de Restaurantes Peruanos por cada barrio.')\n",
    "#On x-axis\n",
    "plt.xlabel('Barrio', fontsize = 15)\n",
    "#On y-axis\n",
    "plt.ylabel('Rating Promedio', fontsize=15)\n",
    "#giving a bar plot\n",
    "peruvian_rest_stats_ny.groupby('Borough').mean()['Rating'].plot(kind='bar')\n",
    "#legend\n",
    "plt.legend()\n",
    "#displays the plot\n",
    "plt.show()"
   ]
  },
  {
   "cell_type": "markdown",
   "metadata": {},
   "source": [
    "##### Podemos deducir que el barrio de 'Manhattan' es el que tiene mejor promedio de Rating en cuanto a los restaurantes peruanos."
   ]
  },
  {
   "cell_type": "markdown",
   "metadata": {},
   "source": [
    "Para graficar en el mapa, consideraremos los vecindarios que tienen un rating promedio mayor a 8.5"
   ]
  },
  {
   "cell_type": "code",
   "execution_count": 65,
   "metadata": {
    "scrolled": true
   },
   "outputs": [
    {
     "data": {
      "text/html": [
       "<div>\n",
       "<style scoped>\n",
       "    .dataframe tbody tr th:only-of-type {\n",
       "        vertical-align: middle;\n",
       "    }\n",
       "\n",
       "    .dataframe tbody tr th {\n",
       "        vertical-align: top;\n",
       "    }\n",
       "\n",
       "    .dataframe thead th {\n",
       "        text-align: right;\n",
       "    }\n",
       "</style>\n",
       "<table border=\"1\" class=\"dataframe\">\n",
       "  <thead>\n",
       "    <tr style=\"text-align: right;\">\n",
       "      <th></th>\n",
       "      <th>Neighborhood</th>\n",
       "      <th>Average Rating</th>\n",
       "    </tr>\n",
       "  </thead>\n",
       "  <tbody>\n",
       "    <tr>\n",
       "      <th>4</th>\n",
       "      <td>Clinton</td>\n",
       "      <td>8.85</td>\n",
       "    </tr>\n",
       "    <tr>\n",
       "      <th>6</th>\n",
       "      <td>Corona</td>\n",
       "      <td>8.50</td>\n",
       "    </tr>\n",
       "    <tr>\n",
       "      <th>7</th>\n",
       "      <td>Douglaston</td>\n",
       "      <td>8.60</td>\n",
       "    </tr>\n",
       "    <tr>\n",
       "      <th>8</th>\n",
       "      <td>Downtown</td>\n",
       "      <td>8.50</td>\n",
       "    </tr>\n",
       "    <tr>\n",
       "      <th>10</th>\n",
       "      <td>Elmhurst</td>\n",
       "      <td>8.50</td>\n",
       "    </tr>\n",
       "    <tr>\n",
       "      <th>15</th>\n",
       "      <td>Greenwich Village</td>\n",
       "      <td>9.10</td>\n",
       "    </tr>\n",
       "    <tr>\n",
       "      <th>19</th>\n",
       "      <td>Hudson Yards</td>\n",
       "      <td>8.85</td>\n",
       "    </tr>\n",
       "    <tr>\n",
       "      <th>22</th>\n",
       "      <td>Little Neck</td>\n",
       "      <td>8.60</td>\n",
       "    </tr>\n",
       "    <tr>\n",
       "      <th>23</th>\n",
       "      <td>Manhattan Valley</td>\n",
       "      <td>8.60</td>\n",
       "    </tr>\n",
       "    <tr>\n",
       "      <th>31</th>\n",
       "      <td>Port Morris</td>\n",
       "      <td>8.60</td>\n",
       "    </tr>\n",
       "    <tr>\n",
       "      <th>38</th>\n",
       "      <td>Vinegar Hill</td>\n",
       "      <td>8.50</td>\n",
       "    </tr>\n",
       "    <tr>\n",
       "      <th>39</th>\n",
       "      <td>West Village</td>\n",
       "      <td>9.10</td>\n",
       "    </tr>\n",
       "  </tbody>\n",
       "</table>\n",
       "</div>"
      ],
      "text/plain": [
       "         Neighborhood  Average Rating\n",
       "4             Clinton            8.85\n",
       "6              Corona            8.50\n",
       "7          Douglaston            8.60\n",
       "8            Downtown            8.50\n",
       "10           Elmhurst            8.50\n",
       "15  Greenwich Village            9.10\n",
       "19       Hudson Yards            8.85\n",
       "22        Little Neck            8.60\n",
       "23   Manhattan Valley            8.60\n",
       "31        Port Morris            8.60\n",
       "38       Vinegar Hill            8.50\n",
       "39       West Village            9.10"
      ]
     },
     "execution_count": 65,
     "metadata": {},
     "output_type": "execute_result"
    }
   ],
   "source": [
    "ny_nb=ny_nb_rating[ny_nb_rating['Average Rating']>=8.5]\n",
    "ny_nb"
   ]
  },
  {
   "cell_type": "markdown",
   "metadata": {},
   "source": [
    "Unimos este dataset al original para obtener las latitudes y longitudes:"
   ]
  },
  {
   "cell_type": "code",
   "execution_count": 66,
   "metadata": {
    "scrolled": true
   },
   "outputs": [
    {
     "data": {
      "text/html": [
       "<div>\n",
       "<style scoped>\n",
       "    .dataframe tbody tr th:only-of-type {\n",
       "        vertical-align: middle;\n",
       "    }\n",
       "\n",
       "    .dataframe tbody tr th {\n",
       "        vertical-align: top;\n",
       "    }\n",
       "\n",
       "    .dataframe thead th {\n",
       "        text-align: right;\n",
       "    }\n",
       "</style>\n",
       "<table border=\"1\" class=\"dataframe\">\n",
       "  <thead>\n",
       "    <tr style=\"text-align: right;\">\n",
       "      <th></th>\n",
       "      <th>Borough</th>\n",
       "      <th>Neighborhood</th>\n",
       "      <th>Latitude</th>\n",
       "      <th>Longitude</th>\n",
       "      <th>Average Rating</th>\n",
       "    </tr>\n",
       "  </thead>\n",
       "  <tbody>\n",
       "    <tr>\n",
       "      <th>0</th>\n",
       "      <td>Manhattan</td>\n",
       "      <td>Clinton</td>\n",
       "      <td>40.759101</td>\n",
       "      <td>-73.996119</td>\n",
       "      <td>8.85</td>\n",
       "    </tr>\n",
       "    <tr>\n",
       "      <th>1</th>\n",
       "      <td>Queens</td>\n",
       "      <td>Corona</td>\n",
       "      <td>40.742382</td>\n",
       "      <td>-73.856825</td>\n",
       "      <td>8.50</td>\n",
       "    </tr>\n",
       "    <tr>\n",
       "      <th>2</th>\n",
       "      <td>Queens</td>\n",
       "      <td>Douglaston</td>\n",
       "      <td>40.766846</td>\n",
       "      <td>-73.742498</td>\n",
       "      <td>8.60</td>\n",
       "    </tr>\n",
       "    <tr>\n",
       "      <th>3</th>\n",
       "      <td>Brooklyn</td>\n",
       "      <td>Downtown</td>\n",
       "      <td>40.690844</td>\n",
       "      <td>-73.983463</td>\n",
       "      <td>8.50</td>\n",
       "    </tr>\n",
       "    <tr>\n",
       "      <th>4</th>\n",
       "      <td>Queens</td>\n",
       "      <td>Elmhurst</td>\n",
       "      <td>40.744049</td>\n",
       "      <td>-73.881656</td>\n",
       "      <td>8.50</td>\n",
       "    </tr>\n",
       "    <tr>\n",
       "      <th>5</th>\n",
       "      <td>Manhattan</td>\n",
       "      <td>Greenwich Village</td>\n",
       "      <td>40.726933</td>\n",
       "      <td>-73.999914</td>\n",
       "      <td>9.10</td>\n",
       "    </tr>\n",
       "    <tr>\n",
       "      <th>6</th>\n",
       "      <td>Manhattan</td>\n",
       "      <td>Hudson Yards</td>\n",
       "      <td>40.756658</td>\n",
       "      <td>-74.000111</td>\n",
       "      <td>8.85</td>\n",
       "    </tr>\n",
       "    <tr>\n",
       "      <th>7</th>\n",
       "      <td>Queens</td>\n",
       "      <td>Little Neck</td>\n",
       "      <td>40.770826</td>\n",
       "      <td>-73.738898</td>\n",
       "      <td>8.60</td>\n",
       "    </tr>\n",
       "    <tr>\n",
       "      <th>8</th>\n",
       "      <td>Manhattan</td>\n",
       "      <td>Manhattan Valley</td>\n",
       "      <td>40.797307</td>\n",
       "      <td>-73.964286</td>\n",
       "      <td>8.60</td>\n",
       "    </tr>\n",
       "    <tr>\n",
       "      <th>9</th>\n",
       "      <td>Bronx</td>\n",
       "      <td>Port Morris</td>\n",
       "      <td>40.801664</td>\n",
       "      <td>-73.913221</td>\n",
       "      <td>8.60</td>\n",
       "    </tr>\n",
       "    <tr>\n",
       "      <th>10</th>\n",
       "      <td>Brooklyn</td>\n",
       "      <td>Vinegar Hill</td>\n",
       "      <td>40.703321</td>\n",
       "      <td>-73.981116</td>\n",
       "      <td>8.50</td>\n",
       "    </tr>\n",
       "    <tr>\n",
       "      <th>11</th>\n",
       "      <td>Manhattan</td>\n",
       "      <td>West Village</td>\n",
       "      <td>40.734434</td>\n",
       "      <td>-74.006180</td>\n",
       "      <td>9.10</td>\n",
       "    </tr>\n",
       "  </tbody>\n",
       "</table>\n",
       "</div>"
      ],
      "text/plain": [
       "      Borough       Neighborhood   Latitude  Longitude  Average Rating\n",
       "0   Manhattan            Clinton  40.759101 -73.996119            8.85\n",
       "1      Queens             Corona  40.742382 -73.856825            8.50\n",
       "2      Queens         Douglaston  40.766846 -73.742498            8.60\n",
       "3    Brooklyn           Downtown  40.690844 -73.983463            8.50\n",
       "4      Queens           Elmhurst  40.744049 -73.881656            8.50\n",
       "5   Manhattan  Greenwich Village  40.726933 -73.999914            9.10\n",
       "6   Manhattan       Hudson Yards  40.756658 -74.000111            8.85\n",
       "7      Queens        Little Neck  40.770826 -73.738898            8.60\n",
       "8   Manhattan   Manhattan Valley  40.797307 -73.964286            8.60\n",
       "9       Bronx        Port Morris  40.801664 -73.913221            8.60\n",
       "10   Brooklyn       Vinegar Hill  40.703321 -73.981116            8.50\n",
       "11  Manhattan       West Village  40.734434 -74.006180            9.10"
      ]
     },
     "execution_count": 66,
     "metadata": {},
     "output_type": "execute_result"
    }
   ],
   "source": [
    "ny_nb=pd.merge(ny_nb,df, on='Neighborhood')\n",
    "ny_nb=ny_nb[['Borough','Neighborhood','Latitude','Longitude','Average Rating']]\n",
    "ny_nb"
   ]
  },
  {
   "cell_type": "code",
   "execution_count": 67,
   "metadata": {},
   "outputs": [],
   "source": [
    "ny_map = folium.Map(location=geo_location('New York'), zoom_start=12)"
   ]
  },
  {
   "cell_type": "code",
   "execution_count": 75,
   "metadata": {},
   "outputs": [
    {
     "data": {
      "text/html": [
       "<div style=\"width:100%;\"><div style=\"position:relative;width:100%;height:0;padding-bottom:60%;\"><span style=\"color:#565656\">Make this Notebook Trusted to load map: File -> Trust Notebook</span><iframe src=\"about:blank\" style=\"position:absolute;width:100%;height:100%;left:0;top:0;border:none !important;\" data-html=%3C%21DOCTYPE%20html%3E%0A%3Chead%3E%20%20%20%20%0A%20%20%20%20%3Cmeta%20http-equiv%3D%22content-type%22%20content%3D%22text/html%3B%20charset%3DUTF-8%22%20/%3E%0A%20%20%20%20%0A%20%20%20%20%20%20%20%20%3Cscript%3E%0A%20%20%20%20%20%20%20%20%20%20%20%20L_NO_TOUCH%20%3D%20false%3B%0A%20%20%20%20%20%20%20%20%20%20%20%20L_DISABLE_3D%20%3D%20false%3B%0A%20%20%20%20%20%20%20%20%3C/script%3E%0A%20%20%20%20%0A%20%20%20%20%3Cstyle%3Ehtml%2C%20body%20%7Bwidth%3A%20100%25%3Bheight%3A%20100%25%3Bmargin%3A%200%3Bpadding%3A%200%3B%7D%3C/style%3E%0A%20%20%20%20%3Cstyle%3E%23map%20%7Bposition%3Aabsolute%3Btop%3A0%3Bbottom%3A0%3Bright%3A0%3Bleft%3A0%3B%7D%3C/style%3E%0A%20%20%20%20%3Cscript%20src%3D%22https%3A//cdn.jsdelivr.net/npm/leaflet%401.6.0/dist/leaflet.js%22%3E%3C/script%3E%0A%20%20%20%20%3Cscript%20src%3D%22https%3A//code.jquery.com/jquery-1.12.4.min.js%22%3E%3C/script%3E%0A%20%20%20%20%3Cscript%20src%3D%22https%3A//maxcdn.bootstrapcdn.com/bootstrap/3.2.0/js/bootstrap.min.js%22%3E%3C/script%3E%0A%20%20%20%20%3Cscript%20src%3D%22https%3A//cdnjs.cloudflare.com/ajax/libs/Leaflet.awesome-markers/2.0.2/leaflet.awesome-markers.js%22%3E%3C/script%3E%0A%20%20%20%20%3Clink%20rel%3D%22stylesheet%22%20href%3D%22https%3A//cdn.jsdelivr.net/npm/leaflet%401.6.0/dist/leaflet.css%22/%3E%0A%20%20%20%20%3Clink%20rel%3D%22stylesheet%22%20href%3D%22https%3A//maxcdn.bootstrapcdn.com/bootstrap/3.2.0/css/bootstrap.min.css%22/%3E%0A%20%20%20%20%3Clink%20rel%3D%22stylesheet%22%20href%3D%22https%3A//maxcdn.bootstrapcdn.com/bootstrap/3.2.0/css/bootstrap-theme.min.css%22/%3E%0A%20%20%20%20%3Clink%20rel%3D%22stylesheet%22%20href%3D%22https%3A//maxcdn.bootstrapcdn.com/font-awesome/4.6.3/css/font-awesome.min.css%22/%3E%0A%20%20%20%20%3Clink%20rel%3D%22stylesheet%22%20href%3D%22https%3A//cdnjs.cloudflare.com/ajax/libs/Leaflet.awesome-markers/2.0.2/leaflet.awesome-markers.css%22/%3E%0A%20%20%20%20%3Clink%20rel%3D%22stylesheet%22%20href%3D%22https%3A//cdn.jsdelivr.net/gh/python-visualization/folium/folium/templates/leaflet.awesome.rotate.min.css%22/%3E%0A%20%20%20%20%0A%20%20%20%20%20%20%20%20%20%20%20%20%3Cmeta%20name%3D%22viewport%22%20content%3D%22width%3Ddevice-width%2C%0A%20%20%20%20%20%20%20%20%20%20%20%20%20%20%20%20initial-scale%3D1.0%2C%20maximum-scale%3D1.0%2C%20user-scalable%3Dno%22%20/%3E%0A%20%20%20%20%20%20%20%20%20%20%20%20%3Cstyle%3E%0A%20%20%20%20%20%20%20%20%20%20%20%20%20%20%20%20%23map_69fa7fc73e3044faa35330bb214dd96b%20%7B%0A%20%20%20%20%20%20%20%20%20%20%20%20%20%20%20%20%20%20%20%20position%3A%20relative%3B%0A%20%20%20%20%20%20%20%20%20%20%20%20%20%20%20%20%20%20%20%20width%3A%20100.0%25%3B%0A%20%20%20%20%20%20%20%20%20%20%20%20%20%20%20%20%20%20%20%20height%3A%20100.0%25%3B%0A%20%20%20%20%20%20%20%20%20%20%20%20%20%20%20%20%20%20%20%20left%3A%200.0%25%3B%0A%20%20%20%20%20%20%20%20%20%20%20%20%20%20%20%20%20%20%20%20top%3A%200.0%25%3B%0A%20%20%20%20%20%20%20%20%20%20%20%20%20%20%20%20%7D%0A%20%20%20%20%20%20%20%20%20%20%20%20%3C/style%3E%0A%20%20%20%20%20%20%20%20%0A%3C/head%3E%0A%3Cbody%3E%20%20%20%20%0A%20%20%20%20%0A%20%20%20%20%20%20%20%20%20%20%20%20%3Cdiv%20class%3D%22folium-map%22%20id%3D%22map_69fa7fc73e3044faa35330bb214dd96b%22%20%3E%3C/div%3E%0A%20%20%20%20%20%20%20%20%0A%3C/body%3E%0A%3Cscript%3E%20%20%20%20%0A%20%20%20%20%0A%20%20%20%20%20%20%20%20%20%20%20%20var%20map_69fa7fc73e3044faa35330bb214dd96b%20%3D%20L.map%28%0A%20%20%20%20%20%20%20%20%20%20%20%20%20%20%20%20%22map_69fa7fc73e3044faa35330bb214dd96b%22%2C%0A%20%20%20%20%20%20%20%20%20%20%20%20%20%20%20%20%7B%0A%20%20%20%20%20%20%20%20%20%20%20%20%20%20%20%20%20%20%20%20center%3A%20%5B40.7127281%2C%20-74.0060152%5D%2C%0A%20%20%20%20%20%20%20%20%20%20%20%20%20%20%20%20%20%20%20%20crs%3A%20L.CRS.EPSG3857%2C%0A%20%20%20%20%20%20%20%20%20%20%20%20%20%20%20%20%20%20%20%20zoom%3A%2012%2C%0A%20%20%20%20%20%20%20%20%20%20%20%20%20%20%20%20%20%20%20%20zoomControl%3A%20true%2C%0A%20%20%20%20%20%20%20%20%20%20%20%20%20%20%20%20%20%20%20%20preferCanvas%3A%20false%2C%0A%20%20%20%20%20%20%20%20%20%20%20%20%20%20%20%20%7D%0A%20%20%20%20%20%20%20%20%20%20%20%20%29%3B%0A%0A%20%20%20%20%20%20%20%20%20%20%20%20%0A%0A%20%20%20%20%20%20%20%20%0A%20%20%20%20%0A%20%20%20%20%20%20%20%20%20%20%20%20var%20tile_layer_c050181011f2410780e736a6d1aa4404%20%3D%20L.tileLayer%28%0A%20%20%20%20%20%20%20%20%20%20%20%20%20%20%20%20%22https%3A//%7Bs%7D.tile.openstreetmap.org/%7Bz%7D/%7Bx%7D/%7By%7D.png%22%2C%0A%20%20%20%20%20%20%20%20%20%20%20%20%20%20%20%20%7B%22attribution%22%3A%20%22Data%20by%20%5Cu0026copy%3B%20%5Cu003ca%20href%3D%5C%22http%3A//openstreetmap.org%5C%22%5Cu003eOpenStreetMap%5Cu003c/a%5Cu003e%2C%20under%20%5Cu003ca%20href%3D%5C%22http%3A//www.openstreetmap.org/copyright%5C%22%5Cu003eODbL%5Cu003c/a%5Cu003e.%22%2C%20%22detectRetina%22%3A%20false%2C%20%22maxNativeZoom%22%3A%2018%2C%20%22maxZoom%22%3A%2018%2C%20%22minZoom%22%3A%200%2C%20%22noWrap%22%3A%20false%2C%20%22opacity%22%3A%201%2C%20%22subdomains%22%3A%20%22abc%22%2C%20%22tms%22%3A%20false%7D%0A%20%20%20%20%20%20%20%20%20%20%20%20%29.addTo%28map_69fa7fc73e3044faa35330bb214dd96b%29%3B%0A%20%20%20%20%20%20%20%20%0A%20%20%20%20%0A%20%20%20%20%20%20%20%20%20%20%20%20var%20marker_2d8075dc03af436e96789a2b1dae8847%20%3D%20L.marker%28%0A%20%20%20%20%20%20%20%20%20%20%20%20%20%20%20%20%5B40.75910089146212%2C%20-73.99611936309479%5D%2C%0A%20%20%20%20%20%20%20%20%20%20%20%20%20%20%20%20%7B%7D%0A%20%20%20%20%20%20%20%20%20%20%20%20%29.addTo%28map_69fa7fc73e3044faa35330bb214dd96b%29%3B%0A%20%20%20%20%20%20%20%20%0A%20%20%20%20%0A%20%20%20%20%20%20%20%20var%20popup_c1cd2960072947afb3480fca95873dad%20%3D%20L.popup%28%7B%22maxWidth%22%3A%20%22100%25%22%7D%29%3B%0A%0A%20%20%20%20%20%20%20%20%0A%20%20%20%20%20%20%20%20%20%20%20%20var%20html_7b04ef56b6ca4496a8c3cf8970e84c10%20%3D%20%24%28%60%3Cdiv%20id%3D%22html_7b04ef56b6ca4496a8c3cf8970e84c10%22%20style%3D%22width%3A%20100.0%25%3B%20height%3A%20100.0%25%3B%22%3EClinton%2C%20Manhattan%288.850000000000001%29%3C/div%3E%60%29%5B0%5D%3B%0A%20%20%20%20%20%20%20%20%20%20%20%20popup_c1cd2960072947afb3480fca95873dad.setContent%28html_7b04ef56b6ca4496a8c3cf8970e84c10%29%3B%0A%20%20%20%20%20%20%20%20%0A%0A%20%20%20%20%20%20%20%20marker_2d8075dc03af436e96789a2b1dae8847.bindPopup%28popup_c1cd2960072947afb3480fca95873dad%29%0A%20%20%20%20%20%20%20%20%3B%0A%0A%20%20%20%20%20%20%20%20%0A%20%20%20%20%0A%20%20%20%20%0A%20%20%20%20%20%20%20%20%20%20%20%20var%20marker_6a9323d5e11a449390dc057c04014ba1%20%3D%20L.marker%28%0A%20%20%20%20%20%20%20%20%20%20%20%20%20%20%20%20%5B40.74238175015667%2C%20-73.85682497345258%5D%2C%0A%20%20%20%20%20%20%20%20%20%20%20%20%20%20%20%20%7B%7D%0A%20%20%20%20%20%20%20%20%20%20%20%20%29.addTo%28map_69fa7fc73e3044faa35330bb214dd96b%29%3B%0A%20%20%20%20%20%20%20%20%0A%20%20%20%20%0A%20%20%20%20%20%20%20%20var%20popup_c849e9052dc04609b180e257f1d20002%20%3D%20L.popup%28%7B%22maxWidth%22%3A%20%22100%25%22%7D%29%3B%0A%0A%20%20%20%20%20%20%20%20%0A%20%20%20%20%20%20%20%20%20%20%20%20var%20html_e125bf4eafbc456283855a6dd285163b%20%3D%20%24%28%60%3Cdiv%20id%3D%22html_e125bf4eafbc456283855a6dd285163b%22%20style%3D%22width%3A%20100.0%25%3B%20height%3A%20100.0%25%3B%22%3ECorona%2C%20Queens%288.5%29%3C/div%3E%60%29%5B0%5D%3B%0A%20%20%20%20%20%20%20%20%20%20%20%20popup_c849e9052dc04609b180e257f1d20002.setContent%28html_e125bf4eafbc456283855a6dd285163b%29%3B%0A%20%20%20%20%20%20%20%20%0A%0A%20%20%20%20%20%20%20%20marker_6a9323d5e11a449390dc057c04014ba1.bindPopup%28popup_c849e9052dc04609b180e257f1d20002%29%0A%20%20%20%20%20%20%20%20%3B%0A%0A%20%20%20%20%20%20%20%20%0A%20%20%20%20%0A%20%20%20%20%0A%20%20%20%20%20%20%20%20%20%20%20%20var%20marker_1c9d1f0ad45c4692b5a90809e33f2e85%20%3D%20L.marker%28%0A%20%20%20%20%20%20%20%20%20%20%20%20%20%20%20%20%5B40.76684609790763%2C%20-73.7424982072733%5D%2C%0A%20%20%20%20%20%20%20%20%20%20%20%20%20%20%20%20%7B%7D%0A%20%20%20%20%20%20%20%20%20%20%20%20%29.addTo%28map_69fa7fc73e3044faa35330bb214dd96b%29%3B%0A%20%20%20%20%20%20%20%20%0A%20%20%20%20%0A%20%20%20%20%20%20%20%20var%20popup_76a113a188724d4f84b21d88b0451a7f%20%3D%20L.popup%28%7B%22maxWidth%22%3A%20%22100%25%22%7D%29%3B%0A%0A%20%20%20%20%20%20%20%20%0A%20%20%20%20%20%20%20%20%20%20%20%20var%20html_a30c9a07bc84486ab3c0092fcd13327f%20%3D%20%24%28%60%3Cdiv%20id%3D%22html_a30c9a07bc84486ab3c0092fcd13327f%22%20style%3D%22width%3A%20100.0%25%3B%20height%3A%20100.0%25%3B%22%3EDouglaston%2C%20Queens%288.6%29%3C/div%3E%60%29%5B0%5D%3B%0A%20%20%20%20%20%20%20%20%20%20%20%20popup_76a113a188724d4f84b21d88b0451a7f.setContent%28html_a30c9a07bc84486ab3c0092fcd13327f%29%3B%0A%20%20%20%20%20%20%20%20%0A%0A%20%20%20%20%20%20%20%20marker_1c9d1f0ad45c4692b5a90809e33f2e85.bindPopup%28popup_76a113a188724d4f84b21d88b0451a7f%29%0A%20%20%20%20%20%20%20%20%3B%0A%0A%20%20%20%20%20%20%20%20%0A%20%20%20%20%0A%20%20%20%20%0A%20%20%20%20%20%20%20%20%20%20%20%20var%20marker_5863ea5643974a6aae0462bacd96da5e%20%3D%20L.marker%28%0A%20%20%20%20%20%20%20%20%20%20%20%20%20%20%20%20%5B40.69084402109802%2C%20-73.98346337431099%5D%2C%0A%20%20%20%20%20%20%20%20%20%20%20%20%20%20%20%20%7B%7D%0A%20%20%20%20%20%20%20%20%20%20%20%20%29.addTo%28map_69fa7fc73e3044faa35330bb214dd96b%29%3B%0A%20%20%20%20%20%20%20%20%0A%20%20%20%20%0A%20%20%20%20%20%20%20%20var%20popup_fd94ab463a8143e4ac427d7f2a82f527%20%3D%20L.popup%28%7B%22maxWidth%22%3A%20%22100%25%22%7D%29%3B%0A%0A%20%20%20%20%20%20%20%20%0A%20%20%20%20%20%20%20%20%20%20%20%20var%20html_df3f66c737b14a4f978df2f4190af9b1%20%3D%20%24%28%60%3Cdiv%20id%3D%22html_df3f66c737b14a4f978df2f4190af9b1%22%20style%3D%22width%3A%20100.0%25%3B%20height%3A%20100.0%25%3B%22%3EDowntown%2C%20Brooklyn%288.5%29%3C/div%3E%60%29%5B0%5D%3B%0A%20%20%20%20%20%20%20%20%20%20%20%20popup_fd94ab463a8143e4ac427d7f2a82f527.setContent%28html_df3f66c737b14a4f978df2f4190af9b1%29%3B%0A%20%20%20%20%20%20%20%20%0A%0A%20%20%20%20%20%20%20%20marker_5863ea5643974a6aae0462bacd96da5e.bindPopup%28popup_fd94ab463a8143e4ac427d7f2a82f527%29%0A%20%20%20%20%20%20%20%20%3B%0A%0A%20%20%20%20%20%20%20%20%0A%20%20%20%20%0A%20%20%20%20%0A%20%20%20%20%20%20%20%20%20%20%20%20var%20marker_12d57cd78e234d9abbe69060327448de%20%3D%20L.marker%28%0A%20%20%20%20%20%20%20%20%20%20%20%20%20%20%20%20%5B40.744048505122024%2C%20-73.88165622288388%5D%2C%0A%20%20%20%20%20%20%20%20%20%20%20%20%20%20%20%20%7B%7D%0A%20%20%20%20%20%20%20%20%20%20%20%20%29.addTo%28map_69fa7fc73e3044faa35330bb214dd96b%29%3B%0A%20%20%20%20%20%20%20%20%0A%20%20%20%20%0A%20%20%20%20%20%20%20%20var%20popup_bd4fd54e76374c0ca9b82cef147f87b8%20%3D%20L.popup%28%7B%22maxWidth%22%3A%20%22100%25%22%7D%29%3B%0A%0A%20%20%20%20%20%20%20%20%0A%20%20%20%20%20%20%20%20%20%20%20%20var%20html_d3de83b9485d4e16925425062a5bece6%20%3D%20%24%28%60%3Cdiv%20id%3D%22html_d3de83b9485d4e16925425062a5bece6%22%20style%3D%22width%3A%20100.0%25%3B%20height%3A%20100.0%25%3B%22%3EElmhurst%2C%20Queens%288.5%29%3C/div%3E%60%29%5B0%5D%3B%0A%20%20%20%20%20%20%20%20%20%20%20%20popup_bd4fd54e76374c0ca9b82cef147f87b8.setContent%28html_d3de83b9485d4e16925425062a5bece6%29%3B%0A%20%20%20%20%20%20%20%20%0A%0A%20%20%20%20%20%20%20%20marker_12d57cd78e234d9abbe69060327448de.bindPopup%28popup_bd4fd54e76374c0ca9b82cef147f87b8%29%0A%20%20%20%20%20%20%20%20%3B%0A%0A%20%20%20%20%20%20%20%20%0A%20%20%20%20%0A%20%20%20%20%0A%20%20%20%20%20%20%20%20%20%20%20%20var%20marker_a98848a2b0f84e79a5f8e6d5bb2b26dd%20%3D%20L.marker%28%0A%20%20%20%20%20%20%20%20%20%20%20%20%20%20%20%20%5B40.72693288536128%2C%20-73.99991402945902%5D%2C%0A%20%20%20%20%20%20%20%20%20%20%20%20%20%20%20%20%7B%7D%0A%20%20%20%20%20%20%20%20%20%20%20%20%29.addTo%28map_69fa7fc73e3044faa35330bb214dd96b%29%3B%0A%20%20%20%20%20%20%20%20%0A%20%20%20%20%0A%20%20%20%20%20%20%20%20var%20popup_0e34ded5c4ae43e0b315b58698cbd6f3%20%3D%20L.popup%28%7B%22maxWidth%22%3A%20%22100%25%22%7D%29%3B%0A%0A%20%20%20%20%20%20%20%20%0A%20%20%20%20%20%20%20%20%20%20%20%20var%20html_a751a4bd7d724ff6af0c58139abbf3b4%20%3D%20%24%28%60%3Cdiv%20id%3D%22html_a751a4bd7d724ff6af0c58139abbf3b4%22%20style%3D%22width%3A%20100.0%25%3B%20height%3A%20100.0%25%3B%22%3EGreenwich%20Village%2C%20Manhattan%289.1%29%3C/div%3E%60%29%5B0%5D%3B%0A%20%20%20%20%20%20%20%20%20%20%20%20popup_0e34ded5c4ae43e0b315b58698cbd6f3.setContent%28html_a751a4bd7d724ff6af0c58139abbf3b4%29%3B%0A%20%20%20%20%20%20%20%20%0A%0A%20%20%20%20%20%20%20%20marker_a98848a2b0f84e79a5f8e6d5bb2b26dd.bindPopup%28popup_0e34ded5c4ae43e0b315b58698cbd6f3%29%0A%20%20%20%20%20%20%20%20%3B%0A%0A%20%20%20%20%20%20%20%20%0A%20%20%20%20%0A%20%20%20%20%0A%20%20%20%20%20%20%20%20%20%20%20%20var%20marker_ffa6770ee89745c1a261086f52077a1a%20%3D%20L.marker%28%0A%20%20%20%20%20%20%20%20%20%20%20%20%20%20%20%20%5B40.75665808227519%2C%20-74.00011136202637%5D%2C%0A%20%20%20%20%20%20%20%20%20%20%20%20%20%20%20%20%7B%7D%0A%20%20%20%20%20%20%20%20%20%20%20%20%29.addTo%28map_69fa7fc73e3044faa35330bb214dd96b%29%3B%0A%20%20%20%20%20%20%20%20%0A%20%20%20%20%0A%20%20%20%20%20%20%20%20var%20popup_3e339d5bb30549c38e6de28efe36c98d%20%3D%20L.popup%28%7B%22maxWidth%22%3A%20%22100%25%22%7D%29%3B%0A%0A%20%20%20%20%20%20%20%20%0A%20%20%20%20%20%20%20%20%20%20%20%20var%20html_204e5718d09948b4bf9b9d8655bd235e%20%3D%20%24%28%60%3Cdiv%20id%3D%22html_204e5718d09948b4bf9b9d8655bd235e%22%20style%3D%22width%3A%20100.0%25%3B%20height%3A%20100.0%25%3B%22%3EHudson%20Yards%2C%20Manhattan%288.850000000000001%29%3C/div%3E%60%29%5B0%5D%3B%0A%20%20%20%20%20%20%20%20%20%20%20%20popup_3e339d5bb30549c38e6de28efe36c98d.setContent%28html_204e5718d09948b4bf9b9d8655bd235e%29%3B%0A%20%20%20%20%20%20%20%20%0A%0A%20%20%20%20%20%20%20%20marker_ffa6770ee89745c1a261086f52077a1a.bindPopup%28popup_3e339d5bb30549c38e6de28efe36c98d%29%0A%20%20%20%20%20%20%20%20%3B%0A%0A%20%20%20%20%20%20%20%20%0A%20%20%20%20%0A%20%20%20%20%0A%20%20%20%20%20%20%20%20%20%20%20%20var%20marker_ae2574b367e44298a228a922c991cc77%20%3D%20L.marker%28%0A%20%20%20%20%20%20%20%20%20%20%20%20%20%20%20%20%5B40.7708261928267%2C%20-73.7388977558074%5D%2C%0A%20%20%20%20%20%20%20%20%20%20%20%20%20%20%20%20%7B%7D%0A%20%20%20%20%20%20%20%20%20%20%20%20%29.addTo%28map_69fa7fc73e3044faa35330bb214dd96b%29%3B%0A%20%20%20%20%20%20%20%20%0A%20%20%20%20%0A%20%20%20%20%20%20%20%20var%20popup_7c31e296b46041bcafc8cdf9b2a5a098%20%3D%20L.popup%28%7B%22maxWidth%22%3A%20%22100%25%22%7D%29%3B%0A%0A%20%20%20%20%20%20%20%20%0A%20%20%20%20%20%20%20%20%20%20%20%20var%20html_a201789916484f7b92b4dabe606aa6f7%20%3D%20%24%28%60%3Cdiv%20id%3D%22html_a201789916484f7b92b4dabe606aa6f7%22%20style%3D%22width%3A%20100.0%25%3B%20height%3A%20100.0%25%3B%22%3ELittle%20Neck%2C%20Queens%288.6%29%3C/div%3E%60%29%5B0%5D%3B%0A%20%20%20%20%20%20%20%20%20%20%20%20popup_7c31e296b46041bcafc8cdf9b2a5a098.setContent%28html_a201789916484f7b92b4dabe606aa6f7%29%3B%0A%20%20%20%20%20%20%20%20%0A%0A%20%20%20%20%20%20%20%20marker_ae2574b367e44298a228a922c991cc77.bindPopup%28popup_7c31e296b46041bcafc8cdf9b2a5a098%29%0A%20%20%20%20%20%20%20%20%3B%0A%0A%20%20%20%20%20%20%20%20%0A%20%20%20%20%0A%20%20%20%20%0A%20%20%20%20%20%20%20%20%20%20%20%20var%20marker_274719da30c34fdf9a9efecf09de24ba%20%3D%20L.marker%28%0A%20%20%20%20%20%20%20%20%20%20%20%20%20%20%20%20%5B40.797307041702865%2C%20-73.96428617740655%5D%2C%0A%20%20%20%20%20%20%20%20%20%20%20%20%20%20%20%20%7B%7D%0A%20%20%20%20%20%20%20%20%20%20%20%20%29.addTo%28map_69fa7fc73e3044faa35330bb214dd96b%29%3B%0A%20%20%20%20%20%20%20%20%0A%20%20%20%20%0A%20%20%20%20%20%20%20%20var%20popup_76839948072c40ae878d2ecb00acede0%20%3D%20L.popup%28%7B%22maxWidth%22%3A%20%22100%25%22%7D%29%3B%0A%0A%20%20%20%20%20%20%20%20%0A%20%20%20%20%20%20%20%20%20%20%20%20var%20html_45eb39e51c1d47528aae8b177eb3f8fe%20%3D%20%24%28%60%3Cdiv%20id%3D%22html_45eb39e51c1d47528aae8b177eb3f8fe%22%20style%3D%22width%3A%20100.0%25%3B%20height%3A%20100.0%25%3B%22%3EManhattan%20Valley%2C%20Manhattan%288.6%29%3C/div%3E%60%29%5B0%5D%3B%0A%20%20%20%20%20%20%20%20%20%20%20%20popup_76839948072c40ae878d2ecb00acede0.setContent%28html_45eb39e51c1d47528aae8b177eb3f8fe%29%3B%0A%20%20%20%20%20%20%20%20%0A%0A%20%20%20%20%20%20%20%20marker_274719da30c34fdf9a9efecf09de24ba.bindPopup%28popup_76839948072c40ae878d2ecb00acede0%29%0A%20%20%20%20%20%20%20%20%3B%0A%0A%20%20%20%20%20%20%20%20%0A%20%20%20%20%0A%20%20%20%20%0A%20%20%20%20%20%20%20%20%20%20%20%20var%20marker_a84e0075c4704f22bc4a81c1100010e3%20%3D%20L.marker%28%0A%20%20%20%20%20%20%20%20%20%20%20%20%20%20%20%20%5B40.801663627756206%2C%20-73.91322139386135%5D%2C%0A%20%20%20%20%20%20%20%20%20%20%20%20%20%20%20%20%7B%7D%0A%20%20%20%20%20%20%20%20%20%20%20%20%29.addTo%28map_69fa7fc73e3044faa35330bb214dd96b%29%3B%0A%20%20%20%20%20%20%20%20%0A%20%20%20%20%0A%20%20%20%20%20%20%20%20var%20popup_c60698a8b6b64bc7bc2b9d7f5447680e%20%3D%20L.popup%28%7B%22maxWidth%22%3A%20%22100%25%22%7D%29%3B%0A%0A%20%20%20%20%20%20%20%20%0A%20%20%20%20%20%20%20%20%20%20%20%20var%20html_6e9c961b8e134236aa43d94e8dedc200%20%3D%20%24%28%60%3Cdiv%20id%3D%22html_6e9c961b8e134236aa43d94e8dedc200%22%20style%3D%22width%3A%20100.0%25%3B%20height%3A%20100.0%25%3B%22%3EPort%20Morris%2C%20Bronx%288.6%29%3C/div%3E%60%29%5B0%5D%3B%0A%20%20%20%20%20%20%20%20%20%20%20%20popup_c60698a8b6b64bc7bc2b9d7f5447680e.setContent%28html_6e9c961b8e134236aa43d94e8dedc200%29%3B%0A%20%20%20%20%20%20%20%20%0A%0A%20%20%20%20%20%20%20%20marker_a84e0075c4704f22bc4a81c1100010e3.bindPopup%28popup_c60698a8b6b64bc7bc2b9d7f5447680e%29%0A%20%20%20%20%20%20%20%20%3B%0A%0A%20%20%20%20%20%20%20%20%0A%20%20%20%20%0A%20%20%20%20%0A%20%20%20%20%20%20%20%20%20%20%20%20var%20marker_7a1d1db290db48f4b9902c859795f6ee%20%3D%20L.marker%28%0A%20%20%20%20%20%20%20%20%20%20%20%20%20%20%20%20%5B40.70332149882874%2C%20-73.98111603592393%5D%2C%0A%20%20%20%20%20%20%20%20%20%20%20%20%20%20%20%20%7B%7D%0A%20%20%20%20%20%20%20%20%20%20%20%20%29.addTo%28map_69fa7fc73e3044faa35330bb214dd96b%29%3B%0A%20%20%20%20%20%20%20%20%0A%20%20%20%20%0A%20%20%20%20%20%20%20%20var%20popup_a2836e8afb6a4cdab3d24a2bf7909194%20%3D%20L.popup%28%7B%22maxWidth%22%3A%20%22100%25%22%7D%29%3B%0A%0A%20%20%20%20%20%20%20%20%0A%20%20%20%20%20%20%20%20%20%20%20%20var%20html_5534c1218bbc4983be35c1345b21133a%20%3D%20%24%28%60%3Cdiv%20id%3D%22html_5534c1218bbc4983be35c1345b21133a%22%20style%3D%22width%3A%20100.0%25%3B%20height%3A%20100.0%25%3B%22%3EVinegar%20Hill%2C%20Brooklyn%288.5%29%3C/div%3E%60%29%5B0%5D%3B%0A%20%20%20%20%20%20%20%20%20%20%20%20popup_a2836e8afb6a4cdab3d24a2bf7909194.setContent%28html_5534c1218bbc4983be35c1345b21133a%29%3B%0A%20%20%20%20%20%20%20%20%0A%0A%20%20%20%20%20%20%20%20marker_7a1d1db290db48f4b9902c859795f6ee.bindPopup%28popup_a2836e8afb6a4cdab3d24a2bf7909194%29%0A%20%20%20%20%20%20%20%20%3B%0A%0A%20%20%20%20%20%20%20%20%0A%20%20%20%20%0A%20%20%20%20%0A%20%20%20%20%20%20%20%20%20%20%20%20var%20marker_eea160782b8b45379e254df6595e7f72%20%3D%20L.marker%28%0A%20%20%20%20%20%20%20%20%20%20%20%20%20%20%20%20%5B40.73443393572434%2C%20-74.00617998126812%5D%2C%0A%20%20%20%20%20%20%20%20%20%20%20%20%20%20%20%20%7B%7D%0A%20%20%20%20%20%20%20%20%20%20%20%20%29.addTo%28map_69fa7fc73e3044faa35330bb214dd96b%29%3B%0A%20%20%20%20%20%20%20%20%0A%20%20%20%20%0A%20%20%20%20%20%20%20%20var%20popup_7fd6e56ea6424da5995d5d836b8726d0%20%3D%20L.popup%28%7B%22maxWidth%22%3A%20%22100%25%22%7D%29%3B%0A%0A%20%20%20%20%20%20%20%20%0A%20%20%20%20%20%20%20%20%20%20%20%20var%20html_e831793cff10408b92cad18cdec15ac1%20%3D%20%24%28%60%3Cdiv%20id%3D%22html_e831793cff10408b92cad18cdec15ac1%22%20style%3D%22width%3A%20100.0%25%3B%20height%3A%20100.0%25%3B%22%3EWest%20Village%2C%20Manhattan%289.1%29%3C/div%3E%60%29%5B0%5D%3B%0A%20%20%20%20%20%20%20%20%20%20%20%20popup_7fd6e56ea6424da5995d5d836b8726d0.setContent%28html_e831793cff10408b92cad18cdec15ac1%29%3B%0A%20%20%20%20%20%20%20%20%0A%0A%20%20%20%20%20%20%20%20marker_eea160782b8b45379e254df6595e7f72.bindPopup%28popup_7fd6e56ea6424da5995d5d836b8726d0%29%0A%20%20%20%20%20%20%20%20%3B%0A%0A%20%20%20%20%20%20%20%20%0A%20%20%20%20%0A%20%20%20%20%0A%20%20%20%20%20%20%20%20%20%20%20%20var%20feature_group_2743cb5a72ef46918ba6544f29dd86f0%20%3D%20L.featureGroup%28%0A%20%20%20%20%20%20%20%20%20%20%20%20%20%20%20%20%7B%7D%0A%20%20%20%20%20%20%20%20%20%20%20%20%29.addTo%28map_69fa7fc73e3044faa35330bb214dd96b%29%3B%0A%20%20%20%20%20%20%20%20%0A%20%20%20%20%0A%20%20%20%20%20%20%20%20%20%20%20%20var%20circle_marker_5d230f5b2a424471a382acdadc15a9f2%20%3D%20L.circleMarker%28%0A%20%20%20%20%20%20%20%20%20%20%20%20%20%20%20%20%5B40.75910089146212%2C%20-73.99611936309479%5D%2C%0A%20%20%20%20%20%20%20%20%20%20%20%20%20%20%20%20%7B%22bubblingMouseEvents%22%3A%20true%2C%20%22color%22%3A%20%22yellow%22%2C%20%22dashArray%22%3A%20null%2C%20%22dashOffset%22%3A%20null%2C%20%22fill%22%3A%20true%2C%20%22fillColor%22%3A%20%22blue%22%2C%20%22fillOpacity%22%3A%200.6%2C%20%22fillRule%22%3A%20%22evenodd%22%2C%20%22lineCap%22%3A%20%22round%22%2C%20%22lineJoin%22%3A%20%22round%22%2C%20%22opacity%22%3A%201.0%2C%20%22radius%22%3A%2010%2C%20%22stroke%22%3A%20true%2C%20%22weight%22%3A%203%7D%0A%20%20%20%20%20%20%20%20%20%20%20%20%29.addTo%28feature_group_2743cb5a72ef46918ba6544f29dd86f0%29%3B%0A%20%20%20%20%20%20%20%20%0A%20%20%20%20%0A%20%20%20%20%20%20%20%20%20%20%20%20var%20circle_marker_b992cb31d1c441dc8a73dead9beaa83a%20%3D%20L.circleMarker%28%0A%20%20%20%20%20%20%20%20%20%20%20%20%20%20%20%20%5B40.74238175015667%2C%20-73.85682497345258%5D%2C%0A%20%20%20%20%20%20%20%20%20%20%20%20%20%20%20%20%7B%22bubblingMouseEvents%22%3A%20true%2C%20%22color%22%3A%20%22yellow%22%2C%20%22dashArray%22%3A%20null%2C%20%22dashOffset%22%3A%20null%2C%20%22fill%22%3A%20true%2C%20%22fillColor%22%3A%20%22blue%22%2C%20%22fillOpacity%22%3A%200.6%2C%20%22fillRule%22%3A%20%22evenodd%22%2C%20%22lineCap%22%3A%20%22round%22%2C%20%22lineJoin%22%3A%20%22round%22%2C%20%22opacity%22%3A%201.0%2C%20%22radius%22%3A%2010%2C%20%22stroke%22%3A%20true%2C%20%22weight%22%3A%203%7D%0A%20%20%20%20%20%20%20%20%20%20%20%20%29.addTo%28feature_group_2743cb5a72ef46918ba6544f29dd86f0%29%3B%0A%20%20%20%20%20%20%20%20%0A%20%20%20%20%0A%20%20%20%20%20%20%20%20%20%20%20%20var%20circle_marker_936f3df38b004864b5a55b2041a85f4a%20%3D%20L.circleMarker%28%0A%20%20%20%20%20%20%20%20%20%20%20%20%20%20%20%20%5B40.76684609790763%2C%20-73.7424982072733%5D%2C%0A%20%20%20%20%20%20%20%20%20%20%20%20%20%20%20%20%7B%22bubblingMouseEvents%22%3A%20true%2C%20%22color%22%3A%20%22yellow%22%2C%20%22dashArray%22%3A%20null%2C%20%22dashOffset%22%3A%20null%2C%20%22fill%22%3A%20true%2C%20%22fillColor%22%3A%20%22blue%22%2C%20%22fillOpacity%22%3A%200.6%2C%20%22fillRule%22%3A%20%22evenodd%22%2C%20%22lineCap%22%3A%20%22round%22%2C%20%22lineJoin%22%3A%20%22round%22%2C%20%22opacity%22%3A%201.0%2C%20%22radius%22%3A%2010%2C%20%22stroke%22%3A%20true%2C%20%22weight%22%3A%203%7D%0A%20%20%20%20%20%20%20%20%20%20%20%20%29.addTo%28feature_group_2743cb5a72ef46918ba6544f29dd86f0%29%3B%0A%20%20%20%20%20%20%20%20%0A%20%20%20%20%0A%20%20%20%20%20%20%20%20%20%20%20%20var%20circle_marker_493b7e30b3b14b48816a9b6e06dc6b5b%20%3D%20L.circleMarker%28%0A%20%20%20%20%20%20%20%20%20%20%20%20%20%20%20%20%5B40.69084402109802%2C%20-73.98346337431099%5D%2C%0A%20%20%20%20%20%20%20%20%20%20%20%20%20%20%20%20%7B%22bubblingMouseEvents%22%3A%20true%2C%20%22color%22%3A%20%22yellow%22%2C%20%22dashArray%22%3A%20null%2C%20%22dashOffset%22%3A%20null%2C%20%22fill%22%3A%20true%2C%20%22fillColor%22%3A%20%22blue%22%2C%20%22fillOpacity%22%3A%200.6%2C%20%22fillRule%22%3A%20%22evenodd%22%2C%20%22lineCap%22%3A%20%22round%22%2C%20%22lineJoin%22%3A%20%22round%22%2C%20%22opacity%22%3A%201.0%2C%20%22radius%22%3A%2010%2C%20%22stroke%22%3A%20true%2C%20%22weight%22%3A%203%7D%0A%20%20%20%20%20%20%20%20%20%20%20%20%29.addTo%28feature_group_2743cb5a72ef46918ba6544f29dd86f0%29%3B%0A%20%20%20%20%20%20%20%20%0A%20%20%20%20%0A%20%20%20%20%20%20%20%20%20%20%20%20var%20circle_marker_e32b5b28b1ec4e9e91201777e3f5e113%20%3D%20L.circleMarker%28%0A%20%20%20%20%20%20%20%20%20%20%20%20%20%20%20%20%5B40.744048505122024%2C%20-73.88165622288388%5D%2C%0A%20%20%20%20%20%20%20%20%20%20%20%20%20%20%20%20%7B%22bubblingMouseEvents%22%3A%20true%2C%20%22color%22%3A%20%22yellow%22%2C%20%22dashArray%22%3A%20null%2C%20%22dashOffset%22%3A%20null%2C%20%22fill%22%3A%20true%2C%20%22fillColor%22%3A%20%22blue%22%2C%20%22fillOpacity%22%3A%200.6%2C%20%22fillRule%22%3A%20%22evenodd%22%2C%20%22lineCap%22%3A%20%22round%22%2C%20%22lineJoin%22%3A%20%22round%22%2C%20%22opacity%22%3A%201.0%2C%20%22radius%22%3A%2010%2C%20%22stroke%22%3A%20true%2C%20%22weight%22%3A%203%7D%0A%20%20%20%20%20%20%20%20%20%20%20%20%29.addTo%28feature_group_2743cb5a72ef46918ba6544f29dd86f0%29%3B%0A%20%20%20%20%20%20%20%20%0A%20%20%20%20%0A%20%20%20%20%20%20%20%20%20%20%20%20var%20circle_marker_c15941647dc241369a22dac4a1afdcb6%20%3D%20L.circleMarker%28%0A%20%20%20%20%20%20%20%20%20%20%20%20%20%20%20%20%5B40.72693288536128%2C%20-73.99991402945902%5D%2C%0A%20%20%20%20%20%20%20%20%20%20%20%20%20%20%20%20%7B%22bubblingMouseEvents%22%3A%20true%2C%20%22color%22%3A%20%22yellow%22%2C%20%22dashArray%22%3A%20null%2C%20%22dashOffset%22%3A%20null%2C%20%22fill%22%3A%20true%2C%20%22fillColor%22%3A%20%22blue%22%2C%20%22fillOpacity%22%3A%200.6%2C%20%22fillRule%22%3A%20%22evenodd%22%2C%20%22lineCap%22%3A%20%22round%22%2C%20%22lineJoin%22%3A%20%22round%22%2C%20%22opacity%22%3A%201.0%2C%20%22radius%22%3A%2010%2C%20%22stroke%22%3A%20true%2C%20%22weight%22%3A%203%7D%0A%20%20%20%20%20%20%20%20%20%20%20%20%29.addTo%28feature_group_2743cb5a72ef46918ba6544f29dd86f0%29%3B%0A%20%20%20%20%20%20%20%20%0A%20%20%20%20%0A%20%20%20%20%20%20%20%20%20%20%20%20var%20circle_marker_13a09748c12a4a5d912b40859be8b808%20%3D%20L.circleMarker%28%0A%20%20%20%20%20%20%20%20%20%20%20%20%20%20%20%20%5B40.75665808227519%2C%20-74.00011136202637%5D%2C%0A%20%20%20%20%20%20%20%20%20%20%20%20%20%20%20%20%7B%22bubblingMouseEvents%22%3A%20true%2C%20%22color%22%3A%20%22yellow%22%2C%20%22dashArray%22%3A%20null%2C%20%22dashOffset%22%3A%20null%2C%20%22fill%22%3A%20true%2C%20%22fillColor%22%3A%20%22blue%22%2C%20%22fillOpacity%22%3A%200.6%2C%20%22fillRule%22%3A%20%22evenodd%22%2C%20%22lineCap%22%3A%20%22round%22%2C%20%22lineJoin%22%3A%20%22round%22%2C%20%22opacity%22%3A%201.0%2C%20%22radius%22%3A%2010%2C%20%22stroke%22%3A%20true%2C%20%22weight%22%3A%203%7D%0A%20%20%20%20%20%20%20%20%20%20%20%20%29.addTo%28feature_group_2743cb5a72ef46918ba6544f29dd86f0%29%3B%0A%20%20%20%20%20%20%20%20%0A%20%20%20%20%0A%20%20%20%20%20%20%20%20%20%20%20%20var%20circle_marker_86a87d14daed4d4dbbdedb56fe3781e0%20%3D%20L.circleMarker%28%0A%20%20%20%20%20%20%20%20%20%20%20%20%20%20%20%20%5B40.7708261928267%2C%20-73.7388977558074%5D%2C%0A%20%20%20%20%20%20%20%20%20%20%20%20%20%20%20%20%7B%22bubblingMouseEvents%22%3A%20true%2C%20%22color%22%3A%20%22yellow%22%2C%20%22dashArray%22%3A%20null%2C%20%22dashOffset%22%3A%20null%2C%20%22fill%22%3A%20true%2C%20%22fillColor%22%3A%20%22blue%22%2C%20%22fillOpacity%22%3A%200.6%2C%20%22fillRule%22%3A%20%22evenodd%22%2C%20%22lineCap%22%3A%20%22round%22%2C%20%22lineJoin%22%3A%20%22round%22%2C%20%22opacity%22%3A%201.0%2C%20%22radius%22%3A%2010%2C%20%22stroke%22%3A%20true%2C%20%22weight%22%3A%203%7D%0A%20%20%20%20%20%20%20%20%20%20%20%20%29.addTo%28feature_group_2743cb5a72ef46918ba6544f29dd86f0%29%3B%0A%20%20%20%20%20%20%20%20%0A%20%20%20%20%0A%20%20%20%20%20%20%20%20%20%20%20%20var%20circle_marker_331d313b3acf4499b49180373fa37804%20%3D%20L.circleMarker%28%0A%20%20%20%20%20%20%20%20%20%20%20%20%20%20%20%20%5B40.797307041702865%2C%20-73.96428617740655%5D%2C%0A%20%20%20%20%20%20%20%20%20%20%20%20%20%20%20%20%7B%22bubblingMouseEvents%22%3A%20true%2C%20%22color%22%3A%20%22yellow%22%2C%20%22dashArray%22%3A%20null%2C%20%22dashOffset%22%3A%20null%2C%20%22fill%22%3A%20true%2C%20%22fillColor%22%3A%20%22blue%22%2C%20%22fillOpacity%22%3A%200.6%2C%20%22fillRule%22%3A%20%22evenodd%22%2C%20%22lineCap%22%3A%20%22round%22%2C%20%22lineJoin%22%3A%20%22round%22%2C%20%22opacity%22%3A%201.0%2C%20%22radius%22%3A%2010%2C%20%22stroke%22%3A%20true%2C%20%22weight%22%3A%203%7D%0A%20%20%20%20%20%20%20%20%20%20%20%20%29.addTo%28feature_group_2743cb5a72ef46918ba6544f29dd86f0%29%3B%0A%20%20%20%20%20%20%20%20%0A%20%20%20%20%0A%20%20%20%20%20%20%20%20%20%20%20%20var%20circle_marker_31ac84dc6dfa4395ac055a0a3d88bc34%20%3D%20L.circleMarker%28%0A%20%20%20%20%20%20%20%20%20%20%20%20%20%20%20%20%5B40.801663627756206%2C%20-73.91322139386135%5D%2C%0A%20%20%20%20%20%20%20%20%20%20%20%20%20%20%20%20%7B%22bubblingMouseEvents%22%3A%20true%2C%20%22color%22%3A%20%22yellow%22%2C%20%22dashArray%22%3A%20null%2C%20%22dashOffset%22%3A%20null%2C%20%22fill%22%3A%20true%2C%20%22fillColor%22%3A%20%22blue%22%2C%20%22fillOpacity%22%3A%200.6%2C%20%22fillRule%22%3A%20%22evenodd%22%2C%20%22lineCap%22%3A%20%22round%22%2C%20%22lineJoin%22%3A%20%22round%22%2C%20%22opacity%22%3A%201.0%2C%20%22radius%22%3A%2010%2C%20%22stroke%22%3A%20true%2C%20%22weight%22%3A%203%7D%0A%20%20%20%20%20%20%20%20%20%20%20%20%29.addTo%28feature_group_2743cb5a72ef46918ba6544f29dd86f0%29%3B%0A%20%20%20%20%20%20%20%20%0A%20%20%20%20%0A%20%20%20%20%20%20%20%20%20%20%20%20var%20circle_marker_59e6f313adeb48149918caf69e84f11e%20%3D%20L.circleMarker%28%0A%20%20%20%20%20%20%20%20%20%20%20%20%20%20%20%20%5B40.70332149882874%2C%20-73.98111603592393%5D%2C%0A%20%20%20%20%20%20%20%20%20%20%20%20%20%20%20%20%7B%22bubblingMouseEvents%22%3A%20true%2C%20%22color%22%3A%20%22yellow%22%2C%20%22dashArray%22%3A%20null%2C%20%22dashOffset%22%3A%20null%2C%20%22fill%22%3A%20true%2C%20%22fillColor%22%3A%20%22blue%22%2C%20%22fillOpacity%22%3A%200.6%2C%20%22fillRule%22%3A%20%22evenodd%22%2C%20%22lineCap%22%3A%20%22round%22%2C%20%22lineJoin%22%3A%20%22round%22%2C%20%22opacity%22%3A%201.0%2C%20%22radius%22%3A%2010%2C%20%22stroke%22%3A%20true%2C%20%22weight%22%3A%203%7D%0A%20%20%20%20%20%20%20%20%20%20%20%20%29.addTo%28feature_group_2743cb5a72ef46918ba6544f29dd86f0%29%3B%0A%20%20%20%20%20%20%20%20%0A%20%20%20%20%0A%20%20%20%20%20%20%20%20%20%20%20%20var%20circle_marker_8f38ec2107c447dcb91ec0d16a9d8e9b%20%3D%20L.circleMarker%28%0A%20%20%20%20%20%20%20%20%20%20%20%20%20%20%20%20%5B40.73443393572434%2C%20-74.00617998126812%5D%2C%0A%20%20%20%20%20%20%20%20%20%20%20%20%20%20%20%20%7B%22bubblingMouseEvents%22%3A%20true%2C%20%22color%22%3A%20%22yellow%22%2C%20%22dashArray%22%3A%20null%2C%20%22dashOffset%22%3A%20null%2C%20%22fill%22%3A%20true%2C%20%22fillColor%22%3A%20%22blue%22%2C%20%22fillOpacity%22%3A%200.6%2C%20%22fillRule%22%3A%20%22evenodd%22%2C%20%22lineCap%22%3A%20%22round%22%2C%20%22lineJoin%22%3A%20%22round%22%2C%20%22opacity%22%3A%201.0%2C%20%22radius%22%3A%2010%2C%20%22stroke%22%3A%20true%2C%20%22weight%22%3A%203%7D%0A%20%20%20%20%20%20%20%20%20%20%20%20%29.addTo%28feature_group_2743cb5a72ef46918ba6544f29dd86f0%29%3B%0A%20%20%20%20%20%20%20%20%0A%3C/script%3E onload=\"this.contentDocument.open();this.contentDocument.write(    decodeURIComponent(this.getAttribute('data-html')));this.contentDocument.close();\" allowfullscreen webkitallowfullscreen mozallowfullscreen></iframe></div></div>"
      ],
      "text/plain": [
       "<folium.folium.Map at 0x277cb7e0130>"
      ]
     },
     "execution_count": 75,
     "metadata": {},
     "output_type": "execute_result"
    }
   ],
   "source": [
    "foliumap = folium.map.FeatureGroup()\n",
    "\n",
    "for lat, lng, in ny_nb[['Latitude','Longitude']].values:\n",
    "    foliumap.add_child(\n",
    "        folium.CircleMarker(\n",
    "            [lat, lng],\n",
    "            radius=10, # define how big you want the circle markers to be\n",
    "            color='yellow',\n",
    "            fill=True,\n",
    "            fill_color='blue',\n",
    "            fill_opacity=0.6\n",
    "        )\n",
    "    )\n",
    "    \n",
    "ny_nb['Label']=ny_nb['Neighborhood']+', '+ny_nb['Borough']+'('+ny_nb['Average Rating'].map(str)+')'\n",
    "\n",
    "# añadir un pop-up de texto dentro de cada circulo\n",
    "for lat, lng, label in ny_nb[['Latitude','Longitude','Label']].values:\n",
    "    folium.Marker([lat, lng], popup=label).add_to(ny_map)        \n",
    "# añadir al mapa y mostrar\n",
    "ny_map.add_child(foliumap)"
   ]
  },
  {
   "cell_type": "markdown",
   "metadata": {},
   "source": [
    "### Conclusión:"
   ]
  },
  {
   "cell_type": "markdown",
   "metadata": {},
   "source": [
    "Luego de realizar este análisis podemos responder las preguntas planteadas:"
   ]
  },
  {
   "cell_type": "markdown",
   "metadata": {},
   "source": [
    "<b> 1. ¿Cuales son los mejores lugares en Nueva York para la cocina Peruana? </b> \\\n",
    "Greenwich Village (Manhattan), West Village (Manhattan), Clinton (Manhattan) y Hudson Yards (Manhattan) son los mejores lugares para la cocina peruana."
   ]
  },
  {
   "cell_type": "markdown",
   "metadata": {},
   "source": [
    "<b> 2. ¿Qué áreas tienen el potencial del mercado de restaurantes peruanos? </b> \\\n",
    "Manhattan tiene un potencial alto para el mercado de cocina peruana."
   ]
  },
  {
   "cell_type": "markdown",
   "metadata": {},
   "source": [
    "<b> 3. ¿Cuál es el mejor lugar para invertir en aperturar un restaurante de comida Peruana? </b> \\\n",
    "La mejor opción para invertir en un restaurante de comida peruana es en <b>Manhattan</b>, especialmente en <b>Greenwich Village </b> y <b>West Village</b>."
   ]
  }
 ],
 "metadata": {
  "kernelspec": {
   "display_name": "Python 3",
   "language": "python",
   "name": "python3"
  },
  "language_info": {
   "codemirror_mode": {
    "name": "ipython",
    "version": 3
   },
   "file_extension": ".py",
   "mimetype": "text/x-python",
   "name": "python",
   "nbconvert_exporter": "python",
   "pygments_lexer": "ipython3",
   "version": "3.8.5"
  }
 },
 "nbformat": 4,
 "nbformat_minor": 4
}
