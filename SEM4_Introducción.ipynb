{
 "cells": [
  {
   "cell_type": "markdown",
   "metadata": {},
   "source": [
    "# Proyeto Capstone - Analizando barrios de Nueva York para abrir un restaurante de comida peruana"
   ]
  },
  {
   "cell_type": "markdown",
   "metadata": {},
   "source": [
    "## Introducción"
   ]
  },
  {
   "cell_type": "markdown",
   "metadata": {},
   "source": [
    "Nueva York, 'la ciudad que nunca duerme', es la ciudad mas grande de Estados unidos a lo largo de la historia, donde puedes encontrar personas con diversas culturas, por ser una de las principales ciudades con inmigrantes legales que viven aquí.\n",
    "\n",
    "Debido a esta naturaleza multicultural en la ciudad de Nueva York, trajo consigo una diversa variedad de gastronomía; entre ellas, la gastronomía peruana. Perú siempre ha sido elogiado por su gastronomía en distintas partes del mundo. La mayoría de las personas una vez que prueban los platos típicos peruanos, no pueden esconder el gusto por ellos.\n",
    "\n",
    "El objetivo de este proyecto es estudiar los barrios de Nueva York para determinar los mejores posibles lugares para abrir un restaurante de comida peruana. Este proyecto puede ser útil para dueños de negocios o emprendedores que estén planeando invertir en abrir un restaurante peruano en Nueva York. El principal objetivo de este proyecto es analizar de manera profunda la data apropiada con el fin de encontrar recomendaciones para los interesados."
   ]
  },
  {
   "cell_type": "markdown",
   "metadata": {},
   "source": [
    "### Problema"
   ]
  },
  {
   "cell_type": "markdown",
   "metadata": {},
   "source": [
    "Responderemos a las siguientes problemas:"
   ]
  },
  {
   "cell_type": "markdown",
   "metadata": {},
   "source": [
    "1. ¿Cuales son los mejores lugares en Nueva York para la cocina Peruana?\n",
    "\n",
    "2. ¿Qué áreas tienen el potencial del mercado de restaurantes peruanos?\n",
    "\n",
    "3. ¿Cuál es el mejor lugar para invertir en aperturar un restaurante de comida Peruana?"
   ]
  },
  {
   "cell_type": "code",
   "execution_count": null,
   "metadata": {},
   "outputs": [],
   "source": []
  }
 ],
 "metadata": {
  "kernelspec": {
   "display_name": "Python 3",
   "language": "python",
   "name": "python3"
  },
  "language_info": {
   "codemirror_mode": {
    "name": "ipython",
    "version": 3
   },
   "file_extension": ".py",
   "mimetype": "text/x-python",
   "name": "python",
   "nbconvert_exporter": "python",
   "pygments_lexer": "ipython3",
   "version": "3.8.5"
  }
 },
 "nbformat": 4,
 "nbformat_minor": 4
}
